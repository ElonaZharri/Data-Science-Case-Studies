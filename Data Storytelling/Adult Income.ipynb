{
 "cells": [
  {
   "cell_type": "markdown",
   "id": "3dbe796d",
   "metadata": {},
   "source": [
    "1. Select a dataset - any dataset! Make sure it's not too dirty,as this case study is about storytelling, not cleaning... :)\n",
    "2. Pick your audience: non-technical; and adjust your tone accordingly.\n",
    "3. Take a look at the data : explore it.\n",
    "4. Think of a narrative,and pursue it.\n",
    "5. Givea 15 mins presentation to your mentor during your next call."
   ]
  },
  {
   "cell_type": "code",
   "execution_count": 97,
   "id": "d0ebde7f",
   "metadata": {},
   "outputs": [],
   "source": [
    "# Import necessary libraries\n",
    "import numpy as np\n",
    "import pandas as pd\n",
    "import matplotlib.pyplot as plt\n",
    "import seaborn as sns"
   ]
  },
  {
   "cell_type": "code",
   "execution_count": 98,
   "id": "619b50c4",
   "metadata": {},
   "outputs": [
    {
     "data": {
      "text/html": [
       "<div>\n",
       "<style scoped>\n",
       "    .dataframe tbody tr th:only-of-type {\n",
       "        vertical-align: middle;\n",
       "    }\n",
       "\n",
       "    .dataframe tbody tr th {\n",
       "        vertical-align: top;\n",
       "    }\n",
       "\n",
       "    .dataframe thead th {\n",
       "        text-align: right;\n",
       "    }\n",
       "</style>\n",
       "<table border=\"1\" class=\"dataframe\">\n",
       "  <thead>\n",
       "    <tr style=\"text-align: right;\">\n",
       "      <th></th>\n",
       "      <th>age</th>\n",
       "      <th>workclass</th>\n",
       "      <th>fnlwgt</th>\n",
       "      <th>education</th>\n",
       "      <th>educational-num</th>\n",
       "      <th>marital-status</th>\n",
       "      <th>occupation</th>\n",
       "      <th>relationship</th>\n",
       "      <th>race</th>\n",
       "      <th>gender</th>\n",
       "      <th>capital-gain</th>\n",
       "      <th>capital-loss</th>\n",
       "      <th>hours-per-week</th>\n",
       "      <th>native-country</th>\n",
       "      <th>income</th>\n",
       "    </tr>\n",
       "  </thead>\n",
       "  <tbody>\n",
       "    <tr>\n",
       "      <th>0</th>\n",
       "      <td>25</td>\n",
       "      <td>Private</td>\n",
       "      <td>226802</td>\n",
       "      <td>11th</td>\n",
       "      <td>7</td>\n",
       "      <td>Never-married</td>\n",
       "      <td>Machine-op-inspct</td>\n",
       "      <td>Own-child</td>\n",
       "      <td>Black</td>\n",
       "      <td>Male</td>\n",
       "      <td>0</td>\n",
       "      <td>0</td>\n",
       "      <td>40</td>\n",
       "      <td>United-States</td>\n",
       "      <td>&lt;=50K</td>\n",
       "    </tr>\n",
       "    <tr>\n",
       "      <th>1</th>\n",
       "      <td>38</td>\n",
       "      <td>Private</td>\n",
       "      <td>89814</td>\n",
       "      <td>HS-grad</td>\n",
       "      <td>9</td>\n",
       "      <td>Married-civ-spouse</td>\n",
       "      <td>Farming-fishing</td>\n",
       "      <td>Husband</td>\n",
       "      <td>White</td>\n",
       "      <td>Male</td>\n",
       "      <td>0</td>\n",
       "      <td>0</td>\n",
       "      <td>50</td>\n",
       "      <td>United-States</td>\n",
       "      <td>&lt;=50K</td>\n",
       "    </tr>\n",
       "    <tr>\n",
       "      <th>2</th>\n",
       "      <td>28</td>\n",
       "      <td>Local-gov</td>\n",
       "      <td>336951</td>\n",
       "      <td>Assoc-acdm</td>\n",
       "      <td>12</td>\n",
       "      <td>Married-civ-spouse</td>\n",
       "      <td>Protective-serv</td>\n",
       "      <td>Husband</td>\n",
       "      <td>White</td>\n",
       "      <td>Male</td>\n",
       "      <td>0</td>\n",
       "      <td>0</td>\n",
       "      <td>40</td>\n",
       "      <td>United-States</td>\n",
       "      <td>&gt;50K</td>\n",
       "    </tr>\n",
       "    <tr>\n",
       "      <th>3</th>\n",
       "      <td>44</td>\n",
       "      <td>Private</td>\n",
       "      <td>160323</td>\n",
       "      <td>Some-college</td>\n",
       "      <td>10</td>\n",
       "      <td>Married-civ-spouse</td>\n",
       "      <td>Machine-op-inspct</td>\n",
       "      <td>Husband</td>\n",
       "      <td>Black</td>\n",
       "      <td>Male</td>\n",
       "      <td>7688</td>\n",
       "      <td>0</td>\n",
       "      <td>40</td>\n",
       "      <td>United-States</td>\n",
       "      <td>&gt;50K</td>\n",
       "    </tr>\n",
       "    <tr>\n",
       "      <th>4</th>\n",
       "      <td>18</td>\n",
       "      <td>?</td>\n",
       "      <td>103497</td>\n",
       "      <td>Some-college</td>\n",
       "      <td>10</td>\n",
       "      <td>Never-married</td>\n",
       "      <td>?</td>\n",
       "      <td>Own-child</td>\n",
       "      <td>White</td>\n",
       "      <td>Female</td>\n",
       "      <td>0</td>\n",
       "      <td>0</td>\n",
       "      <td>30</td>\n",
       "      <td>United-States</td>\n",
       "      <td>&lt;=50K</td>\n",
       "    </tr>\n",
       "  </tbody>\n",
       "</table>\n",
       "</div>"
      ],
      "text/plain": [
       "   age  workclass  fnlwgt     education  educational-num      marital-status  \\\n",
       "0   25    Private  226802          11th                7       Never-married   \n",
       "1   38    Private   89814       HS-grad                9  Married-civ-spouse   \n",
       "2   28  Local-gov  336951    Assoc-acdm               12  Married-civ-spouse   \n",
       "3   44    Private  160323  Some-college               10  Married-civ-spouse   \n",
       "4   18          ?  103497  Some-college               10       Never-married   \n",
       "\n",
       "          occupation relationship   race  gender  capital-gain  capital-loss  \\\n",
       "0  Machine-op-inspct    Own-child  Black    Male             0             0   \n",
       "1    Farming-fishing      Husband  White    Male             0             0   \n",
       "2    Protective-serv      Husband  White    Male             0             0   \n",
       "3  Machine-op-inspct      Husband  Black    Male          7688             0   \n",
       "4                  ?    Own-child  White  Female             0             0   \n",
       "\n",
       "   hours-per-week native-country income  \n",
       "0              40  United-States  <=50K  \n",
       "1              50  United-States  <=50K  \n",
       "2              40  United-States   >50K  \n",
       "3              40  United-States   >50K  \n",
       "4              30  United-States  <=50K  "
      ]
     },
     "execution_count": 98,
     "metadata": {},
     "output_type": "execute_result"
    }
   ],
   "source": [
    "# create the dataframe\n",
    "income = pd.read_csv('adult.csv')\n",
    "income.head(5)"
   ]
  },
  {
   "cell_type": "markdown",
   "id": "06385d76",
   "metadata": {},
   "source": [
    "From a brief review of the data we notice that there is missing data indicated by a question mark, which should be replaced by nan."
   ]
  },
  {
   "cell_type": "code",
   "execution_count": 3,
   "id": "2794c9a7",
   "metadata": {},
   "outputs": [
    {
     "name": "stdout",
     "output_type": "stream",
     "text": [
      "<class 'pandas.core.frame.DataFrame'>\n",
      "RangeIndex: 48842 entries, 0 to 48841\n",
      "Data columns (total 15 columns):\n",
      " #   Column           Non-Null Count  Dtype \n",
      "---  ------           --------------  ----- \n",
      " 0   age              48842 non-null  int64 \n",
      " 1   workclass        48842 non-null  object\n",
      " 2   fnlwgt           48842 non-null  int64 \n",
      " 3   education        48842 non-null  object\n",
      " 4   educational-num  48842 non-null  int64 \n",
      " 5   marital-status   48842 non-null  object\n",
      " 6   occupation       48842 non-null  object\n",
      " 7   relationship     48842 non-null  object\n",
      " 8   race             48842 non-null  object\n",
      " 9   gender           48842 non-null  object\n",
      " 10  capital-gain     48842 non-null  int64 \n",
      " 11  capital-loss     48842 non-null  int64 \n",
      " 12  hours-per-week   48842 non-null  int64 \n",
      " 13  native-country   48842 non-null  object\n",
      " 14  income           48842 non-null  object\n",
      "dtypes: int64(6), object(9)\n",
      "memory usage: 5.6+ MB\n"
     ]
    }
   ],
   "source": [
    "# checking the data types\n",
    "income.info()"
   ]
  },
  {
   "cell_type": "code",
   "execution_count": 4,
   "id": "8732b987",
   "metadata": {},
   "outputs": [
    {
     "data": {
      "text/plain": [
       "(48842, 15)"
      ]
     },
     "execution_count": 4,
     "metadata": {},
     "output_type": "execute_result"
    }
   ],
   "source": [
    "# checking the data shape (rows and columns)\n",
    "income.shape"
   ]
  },
  {
   "cell_type": "code",
   "execution_count": 6,
   "id": "24ca6cb9",
   "metadata": {},
   "outputs": [
    {
     "data": {
      "text/plain": [
       "age                0\n",
       "workclass          0\n",
       "fnlwgt             0\n",
       "education          0\n",
       "educational-num    0\n",
       "marital-status     0\n",
       "occupation         0\n",
       "relationship       0\n",
       "race               0\n",
       "gender             0\n",
       "capital-gain       0\n",
       "capital-loss       0\n",
       "hours-per-week     0\n",
       "native-country     0\n",
       "income             0\n",
       "dtype: int64"
      ]
     },
     "execution_count": 6,
     "metadata": {},
     "output_type": "execute_result"
    }
   ],
   "source": [
    "# checking for null values\n",
    "income.isnull().sum()"
   ]
  },
  {
   "cell_type": "code",
   "execution_count": 7,
   "id": "a677cd59",
   "metadata": {},
   "outputs": [
    {
     "data": {
      "text/plain": [
       "age                   0\n",
       "workclass          2799\n",
       "fnlwgt                0\n",
       "education             0\n",
       "educational-num       0\n",
       "marital-status        0\n",
       "occupation         2809\n",
       "relationship          0\n",
       "race                  0\n",
       "gender                0\n",
       "capital-gain          0\n",
       "capital-loss          0\n",
       "hours-per-week        0\n",
       "native-country      857\n",
       "income                0\n",
       "dtype: int64"
      ]
     },
     "execution_count": 7,
     "metadata": {},
     "output_type": "execute_result"
    }
   ],
   "source": [
    "# checking for '?'\n",
    "income.isin(['?']).sum()"
   ]
  },
  {
   "cell_type": "markdown",
   "id": "c39c2263",
   "metadata": {},
   "source": [
    "We seem to have 3 columns consisting of data marked with '?'. We will replace it with nan."
   ]
  },
  {
   "cell_type": "code",
   "execution_count": 10,
   "id": "670286f6",
   "metadata": {},
   "outputs": [],
   "source": [
    "income['workclass'] = income['workclass'].replace('?', np.nan)\n",
    "income['occupation'] = income['occupation'].replace('?', np.nan)\n",
    "income['native-country'] = income['native-country'].replace('?', np.nan)"
   ]
  },
  {
   "cell_type": "code",
   "execution_count": 13,
   "id": "d6c795e7",
   "metadata": {},
   "outputs": [],
   "source": [
    "income.dropna(inplace=True)"
   ]
  },
  {
   "cell_type": "code",
   "execution_count": 14,
   "id": "364428ca",
   "metadata": {},
   "outputs": [
    {
     "data": {
      "text/plain": [
       "(45222, 15)"
      ]
     },
     "execution_count": 14,
     "metadata": {},
     "output_type": "execute_result"
    }
   ],
   "source": [
    "income.shape"
   ]
  },
  {
   "cell_type": "code",
   "execution_count": 18,
   "id": "9c1aa081",
   "metadata": {},
   "outputs": [
    {
     "data": {
      "text/plain": [
       "(47, 15)"
      ]
     },
     "execution_count": 18,
     "metadata": {},
     "output_type": "execute_result"
    }
   ],
   "source": [
    "# checking for duplicate values\n",
    "income[income.duplicated()].shape"
   ]
  },
  {
   "cell_type": "code",
   "execution_count": 23,
   "id": "251c89d1",
   "metadata": {},
   "outputs": [
    {
     "data": {
      "text/plain": [
       "(45175, 15)"
      ]
     },
     "execution_count": 23,
     "metadata": {},
     "output_type": "execute_result"
    }
   ],
   "source": [
    "income= income.drop_duplicates()\n",
    "income.shape"
   ]
  },
  {
   "cell_type": "code",
   "execution_count": 22,
   "id": "c6c1cabd",
   "metadata": {},
   "outputs": [
    {
     "data": {
      "text/plain": [
       "Index(['age', 'workclass', 'fnlwgt', 'education', 'educational-num',\n",
       "       'marital-status', 'occupation', 'relationship', 'race', 'gender',\n",
       "       'capital-gain', 'capital-loss', 'hours-per-week', 'native-country',\n",
       "       'income'],\n",
       "      dtype='object')"
      ]
     },
     "execution_count": 22,
     "metadata": {},
     "output_type": "execute_result"
    }
   ],
   "source": [
    "# Let's check the columns and identify if we have to keep/reduce \n",
    "income.columns"
   ]
  },
  {
   "cell_type": "markdown",
   "id": "7a7f42e0",
   "metadata": {},
   "source": [
    "Questions we will direct to this particular dataset:\n",
    "- Identify the total count of income >50k and visualize it (barplot)\n",
    "- Univariate Analysis (occupation and income) and visualize it (scatterplot)"
   ]
  },
  {
   "cell_type": "code",
   "execution_count": 58,
   "id": "1072d0a9",
   "metadata": {},
   "outputs": [
    {
     "data": {
      "text/plain": [
       "11202"
      ]
     },
     "execution_count": 58,
     "metadata": {},
     "output_type": "execute_result"
    }
   ],
   "source": [
    "# print the total number of people who make more than 50K\n",
    "len(income[income['income'] == '>50K'])"
   ]
  },
  {
   "cell_type": "code",
   "execution_count": 40,
   "id": "3216a580",
   "metadata": {},
   "outputs": [
    {
     "name": "stdout",
     "output_type": "stream",
     "text": [
      "<=50K    0.752031\n",
      ">50K     0.247969\n",
      "Name: income, dtype: float64\n"
     ]
    },
    {
     "name": "stderr",
     "output_type": "stream",
     "text": [
      "/Users/elonazharri/opt/anaconda3/lib/python3.7/site-packages/seaborn/_decorators.py:43: FutureWarning: Pass the following variable as a keyword arg: x. From version 0.12, the only valid positional argument will be `data`, and passing other arguments without an explicit keyword will result in an error or misinterpretation.\n",
      "  FutureWarning\n"
     ]
    },
    {
     "data": {
      "image/png": "[encoded data removed]",
      "text/plain": [
       "<Figure size 432x432 with 1 Axes>"
      ]
     },
     "metadata": {
      "needs_background": "light"
     },
     "output_type": "display_data"
    }
   ],
   "source": [
    "# Visualize income distribution\n",
    "print(income['income'].value_counts(normalize = True))\n",
    "\n",
    "plt.figure(figsize=(6,6))\n",
    "ab = sns.countplot(income['income']) \n",
    "\n",
    "plt.title(\"Income Distribution\")\n",
    "plt.show()"
   ]
  },
  {
   "cell_type": "markdown",
   "id": "9410b15c",
   "metadata": {},
   "source": [
    "The barplot illustrates that there are 3 times more people who make 50K or less, compared to the ones who make more than 50k"
   ]
  },
  {
   "cell_type": "markdown",
   "id": "c21280fc",
   "metadata": {},
   "source": [
    "We want to perform bivariate analysis to better understand how is the income related with occupation, age and education."
   ]
  },
  {
   "cell_type": "code",
   "execution_count": 60,
   "id": "d0dfc711",
   "metadata": {},
   "outputs": [
    {
     "data": {
      "image/png": "[encoded data removed]",
      "text/plain": [
       "<Figure size 432x432 with 1 Axes>"
      ]
     },
     "metadata": {},
     "output_type": "display_data"
    }
   ],
   "source": [
    "fig = plt.figure(figsize = (6,6))\n",
    "sns.set_style(\"whitegrid\")\n",
    "sns.boxplot(x = 'income', y = 'age', data = income, palette = \"Accent\", showmeans=True).set_title(\"Income distribution by Age\")\n",
    "plt.show()"
   ]
  },
  {
   "cell_type": "code",
   "execution_count": 61,
   "id": "510a4ce0",
   "metadata": {},
   "outputs": [
    {
     "name": "stdout",
     "output_type": "stream",
     "text": [
      "34.0\n",
      "43.0\n"
     ]
    }
   ],
   "source": [
    "# print the age median for the income category\n",
    "print(income.loc[income['income'] == '<=50K', 'age'].median())\n",
    "print(income.loc[income['income'] == '>50K', 'age'].median())"
   ]
  },
  {
   "cell_type": "markdown",
   "id": "266031d5",
   "metadata": {},
   "source": [
    "The boxplot shows that the median age for people making more than 50k is 43 years old. "
   ]
  },
  {
   "cell_type": "code",
   "execution_count": 64,
   "id": "05d15bd9",
   "metadata": {},
   "outputs": [
    {
     "data": {
      "text/plain": [
       "<Figure size 1440x576 with 0 Axes>"
      ]
     },
     "metadata": {},
     "output_type": "display_data"
    },
    {
     "data": {
      "image/png": "[encoded data removed]",
      "text/plain": [
       "<Figure size 785.5x360 with 2 Axes>"
      ]
     },
     "metadata": {},
     "output_type": "display_data"
    }
   ],
   "source": [
    "# Distribution of Income by Race and Gender\n",
    "plt.figure(figsize = (20, 8))\n",
    "sns.catplot(y = 'race', hue = 'income', col = 'gender', data = income, kind = 'count', palette = 'twilight')\n",
    "plt.show()"
   ]
  },
  {
   "cell_type": "markdown",
   "id": "04f1a9b8",
   "metadata": {},
   "source": [
    "The catplot shows the frequencies of the distribution of income by race and gender. We can view a dominance of male gender making more than 50K, compared to female gender."
   ]
  },
  {
   "cell_type": "code",
   "execution_count": 69,
   "id": "3d973971",
   "metadata": {},
   "outputs": [
    {
     "data": {
      "text/plain": [
       "<Figure size 1440x576 with 0 Axes>"
      ]
     },
     "metadata": {},
     "output_type": "display_data"
    },
    {
     "data": {
      "image/png": "[encoded data removed]",
      "text/plain": [
       "<Figure size 785.5x360 with 2 Axes>"
      ]
     },
     "metadata": {},
     "output_type": "display_data"
    }
   ],
   "source": [
    "# Income by Occupation and Gender\n",
    "plt.figure(figsize = (20, 8))\n",
    "\n",
    "sns.catplot(y = 'occupation', hue = 'income', col = 'gender', data = income, kind = 'count', palette = 'twilight')\n",
    "plt.show()"
   ]
  },
  {
   "cell_type": "markdown",
   "id": "6eb2ba64",
   "metadata": {},
   "source": [
    "Here we can view the income distribituion by gender and occupation. The executive managerial role has the highest income for man, and proffessional spectialty role has the highest income for women."
   ]
  },
  {
   "cell_type": "code",
   "execution_count": 71,
   "id": "f64546ce",
   "metadata": {},
   "outputs": [
    {
     "data": {
      "text/plain": [
       "<seaborn.axisgrid.FacetGrid at 0x7fba1f703a90>"
      ]
     },
     "execution_count": 71,
     "metadata": {},
     "output_type": "execute_result"
    },
    {
     "data": {
      "text/plain": [
       "<Figure size 576x576 with 0 Axes>"
      ]
     },
     "metadata": {},
     "output_type": "display_data"
    },
    {
     "data": {
      "image/png": "[encoded data removed]",
      "text/plain": [
       "<Figure size 785.5x360 with 2 Axes>"
      ]
     },
     "metadata": {},
     "output_type": "display_data"
    }
   ],
   "source": [
    "# Income by Marital Status and Gender\n",
    "plt.figure(figsize = (8,8))\n",
    "sns.catplot(y = 'marital-status', hue = 'income', col = 'gender', data = income, palette = 'prism', kind = 'count')"
   ]
  },
  {
   "cell_type": "markdown",
   "id": "393e8693",
   "metadata": {},
   "source": [
    "This figure illustrates the income distribution based on gender and their marital status. For both genders making more than 50K,the marital status is 'Married-civ-spouse'. This does differ for the group making 50K or less, where we see that highest number of men making less 50K are 'maried-civ-spouse', whereas the highest number of women making 50K or less are 'never-married'."
   ]
  },
  {
   "cell_type": "code",
   "execution_count": 105,
   "id": "bea3129b",
   "metadata": {},
   "outputs": [],
   "source": [
    "income['income'].replace({'<=50K':0,'>50K':1}, inplace=True)\n",
    "income['gender'].replace({'Female':0,'Male':1}, inplace=True)\n",
    "income['education'].replace({'Preschool': 0, '1st-4th': 1, '5th-6th': 2, '7th-8th': 3,\n",
    "                                              '9th': 4, '10th': 5, '11th': 6, '12th': 7, 'HS-grad': 8,\n",
    "                                              'Some-college': 9, 'Assoc-voc': 10, 'Assoc-acdm': 11,\n",
    "                                              'Bachelors': 12, 'Masters': 13, 'Doctorate': 14, 'Prof-school': 15}, inplace=True)\n",
    "income['marital-status'].replace({'Never-married': 0, 'Separated': 1, 'Divorced': 2,\n",
    "                                                        'Widowed': 3, 'Married-spouse-absent': 4, 'Married-civ-spouse': 5,\n",
    "                                                        'Married-AF-spouse': 6}, inplace=True)\n",
    "income['occupation'].replace({'Other-service': 0, 'Craft-repair': 1, 'Priv-house-serv': 2,\n",
    "                                                'Handlers-cleaners': 3, 'Farming-fishing': 4, 'Adm-clerical': 5,\n",
    "                                                'Transport-moving': 6, 'Machine-op-inspct': 7, 'Sales': 8, 'Armed-Forces': 9,\n",
    "                                                'Tech-support': 10, 'Protective-serv': 11, 'Exec-managerial': 12,\n",
    "                                                'Prof-specialty': 13}, inplace=True)\n",
    "income['race'].replace({'Other': 0, 'Amer-Indian-Eskimo': 1, 'Asian-Pac-Islander': 2, 'Black': 3,\n",
    "                                    'White': 4}, inplace=True)\n",
    "income['workclass'].replace({'Without-pay': 0, 'Self-emp-not-inc': 1, 'Self-emp-inc': 2,\n",
    "                                              'Local-gov': 3, 'State-gov': 4, 'Federal-gov': 5, 'Private': 6}, inplace=True)\n"
   ]
  },
  {
   "cell_type": "code",
   "execution_count": 106,
   "id": "d3e09ca2",
   "metadata": {},
   "outputs": [
    {
     "data": {
      "text/html": [
       "<div>\n",
       "<style scoped>\n",
       "    .dataframe tbody tr th:only-of-type {\n",
       "        vertical-align: middle;\n",
       "    }\n",
       "\n",
       "    .dataframe tbody tr th {\n",
       "        vertical-align: top;\n",
       "    }\n",
       "\n",
       "    .dataframe thead th {\n",
       "        text-align: right;\n",
       "    }\n",
       "</style>\n",
       "<table border=\"1\" class=\"dataframe\">\n",
       "  <thead>\n",
       "    <tr style=\"text-align: right;\">\n",
       "      <th></th>\n",
       "      <th>age</th>\n",
       "      <th>workclass</th>\n",
       "      <th>fnlwgt</th>\n",
       "      <th>education</th>\n",
       "      <th>educational-num</th>\n",
       "      <th>marital-status</th>\n",
       "      <th>occupation</th>\n",
       "      <th>relationship</th>\n",
       "      <th>race</th>\n",
       "      <th>gender</th>\n",
       "      <th>capital-gain</th>\n",
       "      <th>capital-loss</th>\n",
       "      <th>hours-per-week</th>\n",
       "      <th>native-country</th>\n",
       "      <th>income</th>\n",
       "    </tr>\n",
       "  </thead>\n",
       "  <tbody>\n",
       "    <tr>\n",
       "      <th>0</th>\n",
       "      <td>25</td>\n",
       "      <td>6</td>\n",
       "      <td>226802</td>\n",
       "      <td>6</td>\n",
       "      <td>7</td>\n",
       "      <td>0</td>\n",
       "      <td>7</td>\n",
       "      <td>Own-child</td>\n",
       "      <td>3</td>\n",
       "      <td>1</td>\n",
       "      <td>0</td>\n",
       "      <td>0</td>\n",
       "      <td>40</td>\n",
       "      <td>United-States</td>\n",
       "      <td>0</td>\n",
       "    </tr>\n",
       "    <tr>\n",
       "      <th>1</th>\n",
       "      <td>38</td>\n",
       "      <td>6</td>\n",
       "      <td>89814</td>\n",
       "      <td>8</td>\n",
       "      <td>9</td>\n",
       "      <td>5</td>\n",
       "      <td>4</td>\n",
       "      <td>Husband</td>\n",
       "      <td>4</td>\n",
       "      <td>1</td>\n",
       "      <td>0</td>\n",
       "      <td>0</td>\n",
       "      <td>50</td>\n",
       "      <td>United-States</td>\n",
       "      <td>0</td>\n",
       "    </tr>\n",
       "    <tr>\n",
       "      <th>2</th>\n",
       "      <td>28</td>\n",
       "      <td>3</td>\n",
       "      <td>336951</td>\n",
       "      <td>11</td>\n",
       "      <td>12</td>\n",
       "      <td>5</td>\n",
       "      <td>11</td>\n",
       "      <td>Husband</td>\n",
       "      <td>4</td>\n",
       "      <td>1</td>\n",
       "      <td>0</td>\n",
       "      <td>0</td>\n",
       "      <td>40</td>\n",
       "      <td>United-States</td>\n",
       "      <td>1</td>\n",
       "    </tr>\n",
       "    <tr>\n",
       "      <th>3</th>\n",
       "      <td>44</td>\n",
       "      <td>6</td>\n",
       "      <td>160323</td>\n",
       "      <td>9</td>\n",
       "      <td>10</td>\n",
       "      <td>5</td>\n",
       "      <td>7</td>\n",
       "      <td>Husband</td>\n",
       "      <td>3</td>\n",
       "      <td>1</td>\n",
       "      <td>7688</td>\n",
       "      <td>0</td>\n",
       "      <td>40</td>\n",
       "      <td>United-States</td>\n",
       "      <td>1</td>\n",
       "    </tr>\n",
       "    <tr>\n",
       "      <th>4</th>\n",
       "      <td>18</td>\n",
       "      <td>?</td>\n",
       "      <td>103497</td>\n",
       "      <td>9</td>\n",
       "      <td>10</td>\n",
       "      <td>0</td>\n",
       "      <td>?</td>\n",
       "      <td>Own-child</td>\n",
       "      <td>4</td>\n",
       "      <td>0</td>\n",
       "      <td>0</td>\n",
       "      <td>0</td>\n",
       "      <td>30</td>\n",
       "      <td>United-States</td>\n",
       "      <td>0</td>\n",
       "    </tr>\n",
       "    <tr>\n",
       "      <th>...</th>\n",
       "      <td>...</td>\n",
       "      <td>...</td>\n",
       "      <td>...</td>\n",
       "      <td>...</td>\n",
       "      <td>...</td>\n",
       "      <td>...</td>\n",
       "      <td>...</td>\n",
       "      <td>...</td>\n",
       "      <td>...</td>\n",
       "      <td>...</td>\n",
       "      <td>...</td>\n",
       "      <td>...</td>\n",
       "      <td>...</td>\n",
       "      <td>...</td>\n",
       "      <td>...</td>\n",
       "    </tr>\n",
       "    <tr>\n",
       "      <th>48837</th>\n",
       "      <td>27</td>\n",
       "      <td>6</td>\n",
       "      <td>257302</td>\n",
       "      <td>11</td>\n",
       "      <td>12</td>\n",
       "      <td>5</td>\n",
       "      <td>10</td>\n",
       "      <td>Wife</td>\n",
       "      <td>4</td>\n",
       "      <td>0</td>\n",
       "      <td>0</td>\n",
       "      <td>0</td>\n",
       "      <td>38</td>\n",
       "      <td>United-States</td>\n",
       "      <td>0</td>\n",
       "    </tr>\n",
       "    <tr>\n",
       "      <th>48838</th>\n",
       "      <td>40</td>\n",
       "      <td>6</td>\n",
       "      <td>154374</td>\n",
       "      <td>8</td>\n",
       "      <td>9</td>\n",
       "      <td>5</td>\n",
       "      <td>7</td>\n",
       "      <td>Husband</td>\n",
       "      <td>4</td>\n",
       "      <td>1</td>\n",
       "      <td>0</td>\n",
       "      <td>0</td>\n",
       "      <td>40</td>\n",
       "      <td>United-States</td>\n",
       "      <td>1</td>\n",
       "    </tr>\n",
       "    <tr>\n",
       "      <th>48839</th>\n",
       "      <td>58</td>\n",
       "      <td>6</td>\n",
       "      <td>151910</td>\n",
       "      <td>8</td>\n",
       "      <td>9</td>\n",
       "      <td>3</td>\n",
       "      <td>5</td>\n",
       "      <td>Unmarried</td>\n",
       "      <td>4</td>\n",
       "      <td>0</td>\n",
       "      <td>0</td>\n",
       "      <td>0</td>\n",
       "      <td>40</td>\n",
       "      <td>United-States</td>\n",
       "      <td>0</td>\n",
       "    </tr>\n",
       "    <tr>\n",
       "      <th>48840</th>\n",
       "      <td>22</td>\n",
       "      <td>6</td>\n",
       "      <td>201490</td>\n",
       "      <td>8</td>\n",
       "      <td>9</td>\n",
       "      <td>0</td>\n",
       "      <td>5</td>\n",
       "      <td>Own-child</td>\n",
       "      <td>4</td>\n",
       "      <td>1</td>\n",
       "      <td>0</td>\n",
       "      <td>0</td>\n",
       "      <td>20</td>\n",
       "      <td>United-States</td>\n",
       "      <td>0</td>\n",
       "    </tr>\n",
       "    <tr>\n",
       "      <th>48841</th>\n",
       "      <td>52</td>\n",
       "      <td>2</td>\n",
       "      <td>287927</td>\n",
       "      <td>8</td>\n",
       "      <td>9</td>\n",
       "      <td>5</td>\n",
       "      <td>12</td>\n",
       "      <td>Wife</td>\n",
       "      <td>4</td>\n",
       "      <td>0</td>\n",
       "      <td>15024</td>\n",
       "      <td>0</td>\n",
       "      <td>40</td>\n",
       "      <td>United-States</td>\n",
       "      <td>1</td>\n",
       "    </tr>\n",
       "  </tbody>\n",
       "</table>\n",
       "<p>48842 rows × 15 columns</p>\n",
       "</div>"
      ],
      "text/plain": [
       "       age workclass  fnlwgt  education  educational-num  marital-status  \\\n",
       "0       25         6  226802          6                7               0   \n",
       "1       38         6   89814          8                9               5   \n",
       "2       28         3  336951         11               12               5   \n",
       "3       44         6  160323          9               10               5   \n",
       "4       18         ?  103497          9               10               0   \n",
       "...    ...       ...     ...        ...              ...             ...   \n",
       "48837   27         6  257302         11               12               5   \n",
       "48838   40         6  154374          8                9               5   \n",
       "48839   58         6  151910          8                9               3   \n",
       "48840   22         6  201490          8                9               0   \n",
       "48841   52         2  287927          8                9               5   \n",
       "\n",
       "      occupation relationship  race  gender  capital-gain  capital-loss  \\\n",
       "0              7    Own-child     3       1             0             0   \n",
       "1              4      Husband     4       1             0             0   \n",
       "2             11      Husband     4       1             0             0   \n",
       "3              7      Husband     3       1          7688             0   \n",
       "4              ?    Own-child     4       0             0             0   \n",
       "...          ...          ...   ...     ...           ...           ...   \n",
       "48837         10         Wife     4       0             0             0   \n",
       "48838          7      Husband     4       1             0             0   \n",
       "48839          5    Unmarried     4       0             0             0   \n",
       "48840          5    Own-child     4       1             0             0   \n",
       "48841         12         Wife     4       0         15024             0   \n",
       "\n",
       "       hours-per-week native-country  income  \n",
       "0                  40  United-States       0  \n",
       "1                  50  United-States       0  \n",
       "2                  40  United-States       1  \n",
       "3                  40  United-States       1  \n",
       "4                  30  United-States       0  \n",
       "...               ...            ...     ...  \n",
       "48837              38  United-States       0  \n",
       "48838              40  United-States       1  \n",
       "48839              40  United-States       0  \n",
       "48840              20  United-States       0  \n",
       "48841              40  United-States       1  \n",
       "\n",
       "[48842 rows x 15 columns]"
      ]
     },
     "execution_count": 106,
     "metadata": {},
     "output_type": "execute_result"
    }
   ],
   "source": [
    "income"
   ]
  },
  {
   "cell_type": "code",
   "execution_count": 92,
   "id": "cef4c26d",
   "metadata": {},
   "outputs": [],
   "source": [
    "#income.drop(['educational-num','relationship', 'capital-gain', 'capital-loss','native-country'], axis=1,inplace=True)"
   ]
  },
  {
   "cell_type": "code",
   "execution_count": 93,
   "id": "3e082873",
   "metadata": {},
   "outputs": [
    {
     "data": {
      "text/plain": [
       "Index(['age', 'workclass', 'education', 'marital-status', 'occupation', 'race',\n",
       "       'gender', 'hours-per-week', 'income'],\n",
       "      dtype='object')"
      ]
     },
     "execution_count": 93,
     "metadata": {},
     "output_type": "execute_result"
    }
   ],
   "source": [
    "#income.columns"
   ]
  },
  {
   "cell_type": "code",
   "execution_count": 108,
   "id": "e1d593e8",
   "metadata": {},
   "outputs": [
    {
     "data": {
      "image/png": "[encoded data removed]",
      "text/plain": [
       "<Figure size 864x720 with 2 Axes>"
      ]
     },
     "metadata": {},
     "output_type": "display_data"
    }
   ],
   "source": [
    "# We would like to see the variable correlation \n",
    "corr_matrix = income.corr()\n",
    "\n",
    "f, ax = plt.subplots(figsize = (12,10))\n",
    "k = 12 ##The number of variables to be used for the heatmap\n",
    "cols = corr_matrix.nlargest(k, 'income')['income'].index ##The 'income' variable is used as index as it is compared against others\n",
    "cm = np.corrcoef(income[cols].values.T)\n",
    "sns.set(font_scale = 1.25)\n",
    "hm = sns.heatmap(cm, cbar = True, annot = True, square = True, fmt = '.2f', annot_kws = {'size': 10},\n",
    "                yticklabels = cols.values, xticklabels = cols.values) ##annot prints the values inside the matrix\n",
    "\n",
    "plt.show()"
   ]
  },
  {
   "cell_type": "markdown",
   "id": "8fdfc48e",
   "metadata": {},
   "source": [
    "Here we can see the correlation between the variables which can be weak or strong, and this heatmap shows that income is correlated the closest with the marital status. (hypothesis)"
   ]
  },
  {
   "cell_type": "markdown",
   "id": "12eea4fc",
   "metadata": {},
   "source": [
    "Futher investigations we can do is to actually verify if income varies on the marital status or is there any other feature which effects the income directly."
   ]
  },
  {
   "cell_type": "code",
   "execution_count": null,
   "id": "98b2a66f",
   "metadata": {},
   "outputs": [],
   "source": []
  }
 ],
 "metadata": {
  "kernelspec": {
   "display_name": "Python 3",
   "language": "python",
   "name": "python3"
  },
  "language_info": {
   "codemirror_mode": {
    "name": "ipython",
    "version": 3
   },
   "file_extension": ".py",
   "mimetype": "text/x-python",
   "name": "python",
   "nbconvert_exporter": "python",
   "pygments_lexer": "ipython3",
   "version": "3.7.6"
  }
 },
 "nbformat": 4,
 "nbformat_minor": 5
}
