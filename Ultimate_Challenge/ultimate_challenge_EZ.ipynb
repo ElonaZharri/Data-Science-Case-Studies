{
 "cells": [
  {
   "cell_type": "code",
   "execution_count": 142,
   "id": "25e5ee04",
   "metadata": {},
   "outputs": [],
   "source": [
    "import numpy as np\n",
    "import pandas as pd\n",
    "import matplotlib.pyplot as plt\n",
    "import seaborn as sns"
   ]
  },
  {
   "cell_type": "code",
   "execution_count": 143,
   "id": "cb8c4c55",
   "metadata": {},
   "outputs": [
    {
     "data": {
      "text/html": [
       "<div>\n",
       "<style scoped>\n",
       "    .dataframe tbody tr th:only-of-type {\n",
       "        vertical-align: middle;\n",
       "    }\n",
       "\n",
       "    .dataframe tbody tr th {\n",
       "        vertical-align: top;\n",
       "    }\n",
       "\n",
       "    .dataframe thead th {\n",
       "        text-align: right;\n",
       "    }\n",
       "</style>\n",
       "<table border=\"1\" class=\"dataframe\">\n",
       "  <thead>\n",
       "    <tr style=\"text-align: right;\">\n",
       "      <th></th>\n",
       "      <th>login_time</th>\n",
       "    </tr>\n",
       "  </thead>\n",
       "  <tbody>\n",
       "    <tr>\n",
       "      <th>0</th>\n",
       "      <td>1970-01-01 20:13:18</td>\n",
       "    </tr>\n",
       "    <tr>\n",
       "      <th>1</th>\n",
       "      <td>1970-01-01 20:16:10</td>\n",
       "    </tr>\n",
       "    <tr>\n",
       "      <th>2</th>\n",
       "      <td>1970-01-01 20:16:37</td>\n",
       "    </tr>\n",
       "    <tr>\n",
       "      <th>3</th>\n",
       "      <td>1970-01-01 20:16:36</td>\n",
       "    </tr>\n",
       "    <tr>\n",
       "      <th>4</th>\n",
       "      <td>1970-01-01 20:26:21</td>\n",
       "    </tr>\n",
       "  </tbody>\n",
       "</table>\n",
       "</div>"
      ],
      "text/plain": [
       "           login_time\n",
       "0 1970-01-01 20:13:18\n",
       "1 1970-01-01 20:16:10\n",
       "2 1970-01-01 20:16:37\n",
       "3 1970-01-01 20:16:36\n",
       "4 1970-01-01 20:26:21"
      ]
     },
     "execution_count": 143,
     "metadata": {},
     "output_type": "execute_result"
    }
   ],
   "source": [
    "df = pd.read_json('logins.json')\n",
    "df.head()"
   ]
  },
  {
   "cell_type": "code",
   "execution_count": 144,
   "id": "4a44ee21",
   "metadata": {},
   "outputs": [],
   "source": [
    "# As we visualize the head of the dataset, we are dealing with timeseries data."
   ]
  },
  {
   "cell_type": "code",
   "execution_count": 145,
   "id": "d6b157df",
   "metadata": {},
   "outputs": [],
   "source": [
    "# Aggregate these login counts based on 15 minute time intervals\n",
    "df['num_logins']=1\n",
    "df = df.set_index('login_time').resample('15min').sum()"
   ]
  },
  {
   "cell_type": "code",
   "execution_count": 146,
   "id": "0a0e29c2",
   "metadata": {},
   "outputs": [
    {
     "data": {
      "text/html": [
       "<div>\n",
       "<style scoped>\n",
       "    .dataframe tbody tr th:only-of-type {\n",
       "        vertical-align: middle;\n",
       "    }\n",
       "\n",
       "    .dataframe tbody tr th {\n",
       "        vertical-align: top;\n",
       "    }\n",
       "\n",
       "    .dataframe thead th {\n",
       "        text-align: right;\n",
       "    }\n",
       "</style>\n",
       "<table border=\"1\" class=\"dataframe\">\n",
       "  <thead>\n",
       "    <tr style=\"text-align: right;\">\n",
       "      <th></th>\n",
       "      <th>num_logins</th>\n",
       "    </tr>\n",
       "    <tr>\n",
       "      <th>login_time</th>\n",
       "      <th></th>\n",
       "    </tr>\n",
       "  </thead>\n",
       "  <tbody>\n",
       "    <tr>\n",
       "      <th>1970-01-01 20:00:00</th>\n",
       "      <td>2</td>\n",
       "    </tr>\n",
       "    <tr>\n",
       "      <th>1970-01-01 20:15:00</th>\n",
       "      <td>6</td>\n",
       "    </tr>\n",
       "    <tr>\n",
       "      <th>1970-01-01 20:30:00</th>\n",
       "      <td>9</td>\n",
       "    </tr>\n",
       "    <tr>\n",
       "      <th>1970-01-01 20:45:00</th>\n",
       "      <td>7</td>\n",
       "    </tr>\n",
       "    <tr>\n",
       "      <th>1970-01-01 21:00:00</th>\n",
       "      <td>1</td>\n",
       "    </tr>\n",
       "  </tbody>\n",
       "</table>\n",
       "</div>"
      ],
      "text/plain": [
       "                     num_logins\n",
       "login_time                     \n",
       "1970-01-01 20:00:00           2\n",
       "1970-01-01 20:15:00           6\n",
       "1970-01-01 20:30:00           9\n",
       "1970-01-01 20:45:00           7\n",
       "1970-01-01 21:00:00           1"
      ]
     },
     "execution_count": 146,
     "metadata": {},
     "output_type": "execute_result"
    }
   ],
   "source": [
    "df.head()"
   ]
  },
  {
   "cell_type": "code",
   "execution_count": 147,
   "id": "59661f43",
   "metadata": {},
   "outputs": [
    {
     "data": {
      "image/png": "[encoded data removed]",
      "text/plain": [
       "<Figure size 432x288 with 1 Axes>"
      ]
     },
     "metadata": {
      "needs_background": "light"
     },
     "output_type": "display_data"
    }
   ],
   "source": [
    "# Visualize and describe the resulting time series of login counts in ways that best characterize \n",
    "# the underlying patterns of the demand.\n",
    "df.plot(kind='hist')\n",
    "plt.title('Logins per 15-minute interval')\n",
    "plt.show()"
   ]
  },
  {
   "cell_type": "code",
   "execution_count": 148,
   "id": "5ee286dc",
   "metadata": {},
   "outputs": [
    {
     "data": {
      "text/plain": [
       "num_logins    0\n",
       "dtype: int64"
      ]
     },
     "execution_count": 148,
     "metadata": {},
     "output_type": "execute_result"
    }
   ],
   "source": [
    "# checking if there are any missing data\n",
    "df.isnull().sum()"
   ]
  },
  {
   "cell_type": "code",
   "execution_count": 149,
   "id": "f9452da4",
   "metadata": {},
   "outputs": [
    {
     "data": {
      "image/png": "[encoded data removed]",
      "text/plain": [
       "<Figure size 432x288 with 1 Axes>"
      ]
     },
     "metadata": {
      "needs_background": "light"
     },
     "output_type": "display_data"
    }
   ],
   "source": [
    "df.boxplot()\n",
    "plt.show()"
   ]
  },
  {
   "cell_type": "code",
   "execution_count": 150,
   "id": "785162c1",
   "metadata": {},
   "outputs": [
    {
     "data": {
      "image/png": "[encoded data removed]",
      "text/plain": [
       "<Figure size 576x216 with 1 Axes>"
      ]
     },
     "metadata": {
      "needs_background": "light"
     },
     "output_type": "display_data"
    }
   ],
   "source": [
    "#plot the results\n",
    "df.plot(xlabel='Date', ylabel='Number of Logins', figsize=(8,3), kind='line')\n",
    "plt.title('Logins per 15-minute interval over time')\n",
    "plt.show()"
   ]
  },
  {
   "cell_type": "code",
   "execution_count": 151,
   "id": "2ec19ca7",
   "metadata": {},
   "outputs": [],
   "source": [
    "# While working with timeseries data, we need to ensure that the data has been stationarized, by removing seasonality and/or trend. \n",
    "# We can identify from the pattern that there is seasonality on the data. By using the seasonal decomposition, \n",
    "# we can remove seasonality, so the data is stationary.\n",
    "from statsmodels.tsa.seasonal import seasonal_decompose\n",
    "\n",
    "# In one month there are 4 * 24 * 7 * 4 = 2688 fifteen-minute increments\n",
    "decomp = seasonal_decompose(df.num_logins, period=2688)"
   ]
  },
  {
   "cell_type": "code",
   "execution_count": 152,
   "id": "dceead09",
   "metadata": {},
   "outputs": [
    {
     "data": {
      "image/png": "[encoded data removed]",
      "text/plain": [
       "<Figure size 576x576 with 4 Axes>"
      ]
     },
     "metadata": {
      "needs_background": "light"
     },
     "output_type": "display_data"
    }
   ],
   "source": [
    "# Plot the original data, the trend, the seasonality, and the residuals \n",
    "fig, ax = plt.subplots(4, figsize=(8,8))\n",
    "\n",
    "for i, attrib, name in zip([i for i in range(4)],\n",
    "                        [decomp.observed, decomp.trend, decomp.seasonal, decomp.resid], \n",
    "                        ['observed', 'trend', 'seasonal', 'residuals']):\n",
    "    ax[i].plot(attrib)\n",
    "    ax[i].set_ylabel(name)\n",
    "    \n",
    "plt.show()"
   ]
  },
  {
   "cell_type": "code",
   "execution_count": 153,
   "id": "157a3c82",
   "metadata": {},
   "outputs": [
    {
     "data": {
      "image/png": "[encoded data removed]",
      "text/plain": [
       "<Figure size 432x288 with 1 Axes>"
      ]
     },
     "metadata": {
      "needs_background": "light"
     },
     "output_type": "display_data"
    }
   ],
   "source": [
    "#resample weekly and plot, dropping first and last weeks due to edge effects\n",
    "decomp.seasonal.resample('1W').mean()[1:-1].plot()\n",
    "plt.title('Relative Login Frequency - Weekly Average over Time')\n",
    "plt.xlabel(None)\n",
    "plt.show()"
   ]
  },
  {
   "cell_type": "markdown",
   "id": "883c0f49",
   "metadata": {},
   "source": [
    "Looks like an alternating trend in weekly demand with an increase in login frequency every fourth week, typically the last week of the month. We can observe trends within the week by resampling daily and isolating a single week for ease of inspection."
   ]
  },
  {
   "cell_type": "code",
   "execution_count": 154,
   "id": "f1f3ff99",
   "metadata": {},
   "outputs": [
    {
     "data": {
      "image/png": "[encoded data removed]",
      "text/plain": [
       "<Figure size 720x360 with 1 Axes>"
      ]
     },
     "metadata": {
      "needs_background": "light"
     },
     "output_type": "display_data"
    }
   ],
   "source": [
    "daily = decomp.seasonal.resample('1D').mean()\n",
    "day_dict = {0:'M', 1:'Tu', 2:'W', 3:'Th', 4:'F', 5:'Sa', 6:'Su'}\n",
    "#plot the last month of data\n",
    "plt.figure(figsize=(10,5))\n",
    "plt.plot(daily[-28:].index, daily[-28:].values)\n",
    "plt.xticks(ticks=daily[-28:].index, \n",
    "           labels=daily[-28:].index.weekday.map(day_dict))\n",
    "plt.xlabel('Day of Week')\n",
    "plt.ylabel('Relative Frequency - 24 Hour Average')\n",
    "plt.title('Relative Login Frequency by Weekday - March / April 1970')\n",
    "plt.show()"
   ]
  },
  {
   "cell_type": "markdown",
   "id": "d1fb3014",
   "metadata": {},
   "source": [
    "There is a clear pattern with higher relative login frequency towards the end of the week and on the weekend, with a peak on Saturday and a drastic drop on Monday. We can look at daily patterns and how they change throughout the week as well."
   ]
  },
  {
   "cell_type": "code",
   "execution_count": 155,
   "id": "22f96ceb",
   "metadata": {},
   "outputs": [
    {
     "data": {
      "image/png": "[encoded data removed]",
      "text/plain": [
       "<Figure size 1080x360 with 1 Axes>"
      ]
     },
     "metadata": {
      "needs_background": "light"
     },
     "output_type": "display_data"
    }
   ],
   "source": [
    "# resample hourly\n",
    "hourly = decomp.seasonal.resample('1H').mean()\n",
    "\n",
    "# changing i allows us to plot different weeks\n",
    "i=1\n",
    "\n",
    "# plot \n",
    "plt.figure(figsize=(15,5))\n",
    "plt.plot(hourly[52 +7*24*i: 220 + 7*24*i].index, hourly[52 +7*24*i: 220 + 7*24*i].values)\n",
    "plt.xticks(ticks=hourly[52 +7*24*i: 220 + 7*24*i:6].index, \n",
    "           labels=hourly[52 +7*24*i: 220 + 7*24*i:6].index.strftime('%H (%a)'),\n",
    "           rotation=45)\n",
    "plt.xlabel('Hour of Day')\n",
    "plt.ylabel('Relative Frequency - Hourly Average')\n",
    "plt.title('Relative Login Frequency by Hour Throughout the Week')\n",
    "plt.show()"
   ]
  },
  {
   "cell_type": "markdown",
   "id": "11aee6f3",
   "metadata": {},
   "source": [
    "The login demands are highest during the lunch hour and in the evenings, increase throughout the week, increase on the last week of the month, and have had an increasing baseline from January to April."
   ]
  },
  {
   "cell_type": "code",
   "execution_count": 156,
   "id": "88fb2e09",
   "metadata": {},
   "outputs": [
    {
     "data": {
      "text/html": [
       "<div>\n",
       "<style scoped>\n",
       "    .dataframe tbody tr th:only-of-type {\n",
       "        vertical-align: middle;\n",
       "    }\n",
       "\n",
       "    .dataframe tbody tr th {\n",
       "        vertical-align: top;\n",
       "    }\n",
       "\n",
       "    .dataframe thead th {\n",
       "        text-align: right;\n",
       "    }\n",
       "</style>\n",
       "<table border=\"1\" class=\"dataframe\">\n",
       "  <thead>\n",
       "    <tr style=\"text-align: right;\">\n",
       "      <th></th>\n",
       "      <th>city</th>\n",
       "      <th>trips_in_first_30_days</th>\n",
       "      <th>signup_date</th>\n",
       "      <th>avg_rating_of_driver</th>\n",
       "      <th>avg_surge</th>\n",
       "      <th>last_trip_date</th>\n",
       "      <th>phone</th>\n",
       "      <th>surge_pct</th>\n",
       "      <th>ultimate_black_user</th>\n",
       "      <th>weekday_pct</th>\n",
       "      <th>avg_dist</th>\n",
       "      <th>avg_rating_by_driver</th>\n",
       "    </tr>\n",
       "  </thead>\n",
       "  <tbody>\n",
       "    <tr>\n",
       "      <th>0</th>\n",
       "      <td>King's Landing</td>\n",
       "      <td>4</td>\n",
       "      <td>2014-01-25</td>\n",
       "      <td>4.7</td>\n",
       "      <td>1.10</td>\n",
       "      <td>2014-06-17</td>\n",
       "      <td>iPhone</td>\n",
       "      <td>15.4</td>\n",
       "      <td>True</td>\n",
       "      <td>46.2</td>\n",
       "      <td>3.67</td>\n",
       "      <td>5.0</td>\n",
       "    </tr>\n",
       "    <tr>\n",
       "      <th>1</th>\n",
       "      <td>Astapor</td>\n",
       "      <td>0</td>\n",
       "      <td>2014-01-29</td>\n",
       "      <td>5.0</td>\n",
       "      <td>1.00</td>\n",
       "      <td>2014-05-05</td>\n",
       "      <td>Android</td>\n",
       "      <td>0.0</td>\n",
       "      <td>False</td>\n",
       "      <td>50.0</td>\n",
       "      <td>8.26</td>\n",
       "      <td>5.0</td>\n",
       "    </tr>\n",
       "    <tr>\n",
       "      <th>2</th>\n",
       "      <td>Astapor</td>\n",
       "      <td>3</td>\n",
       "      <td>2014-01-06</td>\n",
       "      <td>4.3</td>\n",
       "      <td>1.00</td>\n",
       "      <td>2014-01-07</td>\n",
       "      <td>iPhone</td>\n",
       "      <td>0.0</td>\n",
       "      <td>False</td>\n",
       "      <td>100.0</td>\n",
       "      <td>0.77</td>\n",
       "      <td>5.0</td>\n",
       "    </tr>\n",
       "    <tr>\n",
       "      <th>3</th>\n",
       "      <td>King's Landing</td>\n",
       "      <td>9</td>\n",
       "      <td>2014-01-10</td>\n",
       "      <td>4.6</td>\n",
       "      <td>1.14</td>\n",
       "      <td>2014-06-29</td>\n",
       "      <td>iPhone</td>\n",
       "      <td>20.0</td>\n",
       "      <td>True</td>\n",
       "      <td>80.0</td>\n",
       "      <td>2.36</td>\n",
       "      <td>4.9</td>\n",
       "    </tr>\n",
       "    <tr>\n",
       "      <th>4</th>\n",
       "      <td>Winterfell</td>\n",
       "      <td>14</td>\n",
       "      <td>2014-01-27</td>\n",
       "      <td>4.4</td>\n",
       "      <td>1.19</td>\n",
       "      <td>2014-03-15</td>\n",
       "      <td>Android</td>\n",
       "      <td>11.8</td>\n",
       "      <td>False</td>\n",
       "      <td>82.4</td>\n",
       "      <td>3.13</td>\n",
       "      <td>4.9</td>\n",
       "    </tr>\n",
       "  </tbody>\n",
       "</table>\n",
       "</div>"
      ],
      "text/plain": [
       "             city  trips_in_first_30_days signup_date  avg_rating_of_driver  \\\n",
       "0  King's Landing                       4  2014-01-25                   4.7   \n",
       "1         Astapor                       0  2014-01-29                   5.0   \n",
       "2         Astapor                       3  2014-01-06                   4.3   \n",
       "3  King's Landing                       9  2014-01-10                   4.6   \n",
       "4      Winterfell                      14  2014-01-27                   4.4   \n",
       "\n",
       "   avg_surge last_trip_date    phone  surge_pct  ultimate_black_user  \\\n",
       "0       1.10     2014-06-17   iPhone       15.4                 True   \n",
       "1       1.00     2014-05-05  Android        0.0                False   \n",
       "2       1.00     2014-01-07   iPhone        0.0                False   \n",
       "3       1.14     2014-06-29   iPhone       20.0                 True   \n",
       "4       1.19     2014-03-15  Android       11.8                False   \n",
       "\n",
       "   weekday_pct  avg_dist  avg_rating_by_driver  \n",
       "0         46.2      3.67                   5.0  \n",
       "1         50.0      8.26                   5.0  \n",
       "2        100.0      0.77                   5.0  \n",
       "3         80.0      2.36                   4.9  \n",
       "4         82.4      3.13                   4.9  "
      ]
     },
     "execution_count": 156,
     "metadata": {},
     "output_type": "execute_result"
    }
   ],
   "source": [
    "df = pd.read_json('ultimate_data_challenge.json', convert_dates=['signup_date', 'last_trip_date'])\n",
    "df.head()"
   ]
  },
  {
   "cell_type": "code",
   "execution_count": 157,
   "id": "9d47fb1e",
   "metadata": {},
   "outputs": [
    {
     "data": {
      "text/plain": [
       "city                         0\n",
       "trips_in_first_30_days       0\n",
       "signup_date                  0\n",
       "avg_rating_of_driver      8122\n",
       "avg_surge                    0\n",
       "last_trip_date               0\n",
       "phone                      396\n",
       "surge_pct                    0\n",
       "ultimate_black_user          0\n",
       "weekday_pct                  0\n",
       "avg_dist                     0\n",
       "avg_rating_by_driver       201\n",
       "dtype: int64"
      ]
     },
     "execution_count": 157,
     "metadata": {},
     "output_type": "execute_result"
    }
   ],
   "source": [
    "df.isnull().sum()"
   ]
  },
  {
   "cell_type": "markdown",
   "id": "ba0f8326",
   "metadata": {},
   "source": [
    "We will fill null values with a signifier of -1 for numerical datatypes and \"None\" for strings. We will also convert booleans into integers."
   ]
  },
  {
   "cell_type": "code",
   "execution_count": 158,
   "id": "fe9264db",
   "metadata": {},
   "outputs": [],
   "source": [
    "df.avg_rating_of_driver = df.avg_rating_of_driver.fillna(value=-1)\n",
    "df.avg_rating_by_driver = df.avg_rating_by_driver.fillna(value=-1)\n",
    "df.phone = df.phone.fillna(value='None')\n",
    "df.ultimate_black_user = df.ultimate_black_user.astype('int')"
   ]
  },
  {
   "cell_type": "code",
   "execution_count": 159,
   "id": "1f9fe3d8",
   "metadata": {},
   "outputs": [
    {
     "name": "stderr",
     "output_type": "stream",
     "text": [
      "/Users/elonazharri/opt/anaconda3/lib/python3.7/site-packages/ipykernel_launcher.py:1: FutureWarning: Treating datetime data as categorical rather than numeric in `.describe` is deprecated and will be removed in a future version of pandas. Specify `datetime_is_numeric=True` to silence this warning and adopt the future behavior now.\n",
      "  \"\"\"Entry point for launching an IPython kernel.\n"
     ]
    },
    {
     "data": {
      "text/plain": [
       "count                   50000\n",
       "unique                    182\n",
       "top       2014-06-29 00:00:00\n",
       "freq                     2036\n",
       "first     2014-01-01 00:00:00\n",
       "last      2014-07-01 00:00:00\n",
       "Name: last_trip_date, dtype: object"
      ]
     },
     "execution_count": 159,
     "metadata": {},
     "output_type": "execute_result"
    }
   ],
   "source": [
    "df.last_trip_date.describe(datetime_is_numeric=False)"
   ]
  },
  {
   "cell_type": "code",
   "execution_count": 160,
   "id": "f97e8697",
   "metadata": {},
   "outputs": [],
   "source": [
    "df['retained'] = (df.last_trip_date >= pd.to_datetime('2014-06-01')).astype('int')"
   ]
  },
  {
   "cell_type": "code",
   "execution_count": 161,
   "id": "4b6e9b06",
   "metadata": {},
   "outputs": [
    {
     "name": "stdout",
     "output_type": "stream",
     "text": [
      "38% of drivers were retained.\n"
     ]
    }
   ],
   "source": [
    "pct = round(df.retained.value_counts()[1] / 50000 * 100)\n",
    "print('{}% of drivers were retained.'.format(pct))"
   ]
  },
  {
   "cell_type": "code",
   "execution_count": 162,
   "id": "23c69422",
   "metadata": {},
   "outputs": [
    {
     "data": {
      "image/png": "[encoded data removed]",
      "text/plain": [
       "<Figure size 432x288 with 2 Axes>"
      ]
     },
     "metadata": {
      "needs_background": "light"
     },
     "output_type": "display_data"
    }
   ],
   "source": [
    "# checking the correlation\n",
    "sns.heatmap(df.corr())\n",
    "plt.show()"
   ]
  },
  {
   "cell_type": "code",
   "execution_count": 163,
   "id": "cc220f53",
   "metadata": {},
   "outputs": [],
   "source": [
    "lost = df[df.retained == 0]\n",
    "kept = df[df.retained == 1]"
   ]
  },
  {
   "cell_type": "code",
   "execution_count": 138,
   "id": "2bc90e3a",
   "metadata": {},
   "outputs": [
    {
     "data": {
      "image/png": "[encoded data removed]",
      "text/plain": [
       "<Figure size 504x4680 with 13 Axes>"
      ]
     },
     "metadata": {
      "needs_background": "light"
     },
     "output_type": "display_data"
    }
   ],
   "source": [
    "cols = df.columns\n",
    "fig, axes = plt.subplots(len(cols), figsize=(7, 5*len(cols)))\n",
    "for ax, col in zip(axes, cols): \n",
    "    ax.hist([lost[col], kept[col]], label=['dropped', 'retained'], density=True, color=['green', 'blue'])\n",
    "    ax.legend()\n",
    "    ax.set_xlabel(col)\n",
    "plt.show()"
   ]
  },
  {
   "cell_type": "code",
   "execution_count": 164,
   "id": "05bc7539",
   "metadata": {},
   "outputs": [
    {
     "data": {
      "text/html": [
       "<div>\n",
       "<style scoped>\n",
       "    .dataframe tbody tr th:only-of-type {\n",
       "        vertical-align: middle;\n",
       "    }\n",
       "\n",
       "    .dataframe tbody tr th {\n",
       "        vertical-align: top;\n",
       "    }\n",
       "\n",
       "    .dataframe thead th {\n",
       "        text-align: right;\n",
       "    }\n",
       "</style>\n",
       "<table border=\"1\" class=\"dataframe\">\n",
       "  <thead>\n",
       "    <tr style=\"text-align: right;\">\n",
       "      <th></th>\n",
       "      <th>trips_in_first_30_days</th>\n",
       "      <th>avg_rating_of_driver</th>\n",
       "      <th>avg_surge</th>\n",
       "      <th>surge_pct</th>\n",
       "      <th>ultimate_black_user</th>\n",
       "      <th>weekday_pct</th>\n",
       "      <th>avg_dist</th>\n",
       "      <th>avg_rating_by_driver</th>\n",
       "      <th>retained</th>\n",
       "      <th>city_Astapor</th>\n",
       "      <th>city_King's Landing</th>\n",
       "      <th>phone_Android</th>\n",
       "      <th>phone_iPhone</th>\n",
       "    </tr>\n",
       "  </thead>\n",
       "  <tbody>\n",
       "    <tr>\n",
       "      <th>0</th>\n",
       "      <td>4</td>\n",
       "      <td>4.7</td>\n",
       "      <td>1.10</td>\n",
       "      <td>15.4</td>\n",
       "      <td>1</td>\n",
       "      <td>46.2</td>\n",
       "      <td>3.67</td>\n",
       "      <td>5.0</td>\n",
       "      <td>1</td>\n",
       "      <td>0</td>\n",
       "      <td>1</td>\n",
       "      <td>0</td>\n",
       "      <td>1</td>\n",
       "    </tr>\n",
       "    <tr>\n",
       "      <th>1</th>\n",
       "      <td>0</td>\n",
       "      <td>5.0</td>\n",
       "      <td>1.00</td>\n",
       "      <td>0.0</td>\n",
       "      <td>0</td>\n",
       "      <td>50.0</td>\n",
       "      <td>8.26</td>\n",
       "      <td>5.0</td>\n",
       "      <td>0</td>\n",
       "      <td>1</td>\n",
       "      <td>0</td>\n",
       "      <td>1</td>\n",
       "      <td>0</td>\n",
       "    </tr>\n",
       "    <tr>\n",
       "      <th>2</th>\n",
       "      <td>3</td>\n",
       "      <td>4.3</td>\n",
       "      <td>1.00</td>\n",
       "      <td>0.0</td>\n",
       "      <td>0</td>\n",
       "      <td>100.0</td>\n",
       "      <td>0.77</td>\n",
       "      <td>5.0</td>\n",
       "      <td>0</td>\n",
       "      <td>1</td>\n",
       "      <td>0</td>\n",
       "      <td>0</td>\n",
       "      <td>1</td>\n",
       "    </tr>\n",
       "    <tr>\n",
       "      <th>3</th>\n",
       "      <td>9</td>\n",
       "      <td>4.6</td>\n",
       "      <td>1.14</td>\n",
       "      <td>20.0</td>\n",
       "      <td>1</td>\n",
       "      <td>80.0</td>\n",
       "      <td>2.36</td>\n",
       "      <td>4.9</td>\n",
       "      <td>1</td>\n",
       "      <td>0</td>\n",
       "      <td>1</td>\n",
       "      <td>0</td>\n",
       "      <td>1</td>\n",
       "    </tr>\n",
       "    <tr>\n",
       "      <th>4</th>\n",
       "      <td>14</td>\n",
       "      <td>4.4</td>\n",
       "      <td>1.19</td>\n",
       "      <td>11.8</td>\n",
       "      <td>0</td>\n",
       "      <td>82.4</td>\n",
       "      <td>3.13</td>\n",
       "      <td>4.9</td>\n",
       "      <td>0</td>\n",
       "      <td>0</td>\n",
       "      <td>0</td>\n",
       "      <td>1</td>\n",
       "      <td>0</td>\n",
       "    </tr>\n",
       "    <tr>\n",
       "      <th>...</th>\n",
       "      <td>...</td>\n",
       "      <td>...</td>\n",
       "      <td>...</td>\n",
       "      <td>...</td>\n",
       "      <td>...</td>\n",
       "      <td>...</td>\n",
       "      <td>...</td>\n",
       "      <td>...</td>\n",
       "      <td>...</td>\n",
       "      <td>...</td>\n",
       "      <td>...</td>\n",
       "      <td>...</td>\n",
       "      <td>...</td>\n",
       "    </tr>\n",
       "    <tr>\n",
       "      <th>49995</th>\n",
       "      <td>0</td>\n",
       "      <td>5.0</td>\n",
       "      <td>1.00</td>\n",
       "      <td>0.0</td>\n",
       "      <td>0</td>\n",
       "      <td>100.0</td>\n",
       "      <td>5.63</td>\n",
       "      <td>4.2</td>\n",
       "      <td>1</td>\n",
       "      <td>0</td>\n",
       "      <td>1</td>\n",
       "      <td>0</td>\n",
       "      <td>1</td>\n",
       "    </tr>\n",
       "    <tr>\n",
       "      <th>49996</th>\n",
       "      <td>1</td>\n",
       "      <td>-1.0</td>\n",
       "      <td>1.00</td>\n",
       "      <td>0.0</td>\n",
       "      <td>0</td>\n",
       "      <td>0.0</td>\n",
       "      <td>0.00</td>\n",
       "      <td>4.0</td>\n",
       "      <td>0</td>\n",
       "      <td>1</td>\n",
       "      <td>0</td>\n",
       "      <td>0</td>\n",
       "      <td>1</td>\n",
       "    </tr>\n",
       "    <tr>\n",
       "      <th>49997</th>\n",
       "      <td>0</td>\n",
       "      <td>5.0</td>\n",
       "      <td>1.00</td>\n",
       "      <td>0.0</td>\n",
       "      <td>1</td>\n",
       "      <td>100.0</td>\n",
       "      <td>3.86</td>\n",
       "      <td>5.0</td>\n",
       "      <td>0</td>\n",
       "      <td>0</td>\n",
       "      <td>0</td>\n",
       "      <td>1</td>\n",
       "      <td>0</td>\n",
       "    </tr>\n",
       "    <tr>\n",
       "      <th>49998</th>\n",
       "      <td>2</td>\n",
       "      <td>3.0</td>\n",
       "      <td>1.00</td>\n",
       "      <td>0.0</td>\n",
       "      <td>0</td>\n",
       "      <td>100.0</td>\n",
       "      <td>4.58</td>\n",
       "      <td>3.5</td>\n",
       "      <td>0</td>\n",
       "      <td>1</td>\n",
       "      <td>0</td>\n",
       "      <td>0</td>\n",
       "      <td>1</td>\n",
       "    </tr>\n",
       "    <tr>\n",
       "      <th>49999</th>\n",
       "      <td>0</td>\n",
       "      <td>-1.0</td>\n",
       "      <td>1.00</td>\n",
       "      <td>0.0</td>\n",
       "      <td>0</td>\n",
       "      <td>0.0</td>\n",
       "      <td>3.49</td>\n",
       "      <td>5.0</td>\n",
       "      <td>0</td>\n",
       "      <td>1</td>\n",
       "      <td>0</td>\n",
       "      <td>1</td>\n",
       "      <td>0</td>\n",
       "    </tr>\n",
       "  </tbody>\n",
       "</table>\n",
       "<p>50000 rows × 13 columns</p>\n",
       "</div>"
      ],
      "text/plain": [
       "       trips_in_first_30_days  avg_rating_of_driver  avg_surge  surge_pct  \\\n",
       "0                           4                   4.7       1.10       15.4   \n",
       "1                           0                   5.0       1.00        0.0   \n",
       "2                           3                   4.3       1.00        0.0   \n",
       "3                           9                   4.6       1.14       20.0   \n",
       "4                          14                   4.4       1.19       11.8   \n",
       "...                       ...                   ...        ...        ...   \n",
       "49995                       0                   5.0       1.00        0.0   \n",
       "49996                       1                  -1.0       1.00        0.0   \n",
       "49997                       0                   5.0       1.00        0.0   \n",
       "49998                       2                   3.0       1.00        0.0   \n",
       "49999                       0                  -1.0       1.00        0.0   \n",
       "\n",
       "       ultimate_black_user  weekday_pct  avg_dist  avg_rating_by_driver  \\\n",
       "0                        1         46.2      3.67                   5.0   \n",
       "1                        0         50.0      8.26                   5.0   \n",
       "2                        0        100.0      0.77                   5.0   \n",
       "3                        1         80.0      2.36                   4.9   \n",
       "4                        0         82.4      3.13                   4.9   \n",
       "...                    ...          ...       ...                   ...   \n",
       "49995                    0        100.0      5.63                   4.2   \n",
       "49996                    0          0.0      0.00                   4.0   \n",
       "49997                    1        100.0      3.86                   5.0   \n",
       "49998                    0        100.0      4.58                   3.5   \n",
       "49999                    0          0.0      3.49                   5.0   \n",
       "\n",
       "       retained  city_Astapor  city_King's Landing  phone_Android  \\\n",
       "0             1             0                    1              0   \n",
       "1             0             1                    0              1   \n",
       "2             0             1                    0              0   \n",
       "3             1             0                    1              0   \n",
       "4             0             0                    0              1   \n",
       "...         ...           ...                  ...            ...   \n",
       "49995         1             0                    1              0   \n",
       "49996         0             1                    0              0   \n",
       "49997         0             0                    0              1   \n",
       "49998         0             1                    0              0   \n",
       "49999         0             1                    0              1   \n",
       "\n",
       "       phone_iPhone  \n",
       "0                 1  \n",
       "1                 0  \n",
       "2                 1  \n",
       "3                 1  \n",
       "4                 0  \n",
       "...             ...  \n",
       "49995             1  \n",
       "49996             1  \n",
       "49997             0  \n",
       "49998             1  \n",
       "49999             0  \n",
       "\n",
       "[50000 rows x 13 columns]"
      ]
     },
     "execution_count": 164,
     "metadata": {},
     "output_type": "execute_result"
    }
   ],
   "source": [
    "df = pd.get_dummies(df).drop(columns=['signup_date', 'last_trip_date', 'city_Winterfell', 'phone_None'])\n",
    "df"
   ]
  },
  {
   "cell_type": "markdown",
   "id": "030b6741",
   "metadata": {},
   "source": [
    "# Analyzing the model"
   ]
  },
  {
   "cell_type": "code",
   "execution_count": 28,
   "id": "732d8ad9",
   "metadata": {},
   "outputs": [
    {
     "name": "stdout",
     "output_type": "stream",
     "text": [
      "Collecting xgboost\n",
      "  Downloading xgboost-1.4.2-py3-none-macosx_10_14_x86_64.macosx_10_15_x86_64.macosx_11_0_x86_64.whl (1.2 MB)\n",
      "\u001b[K     |████████████████████████████████| 1.2 MB 4.8 MB/s eta 0:00:01\n",
      "\u001b[?25hRequirement already satisfied: scipy in /Users/elonazharri/opt/anaconda3/lib/python3.7/site-packages (from xgboost) (1.6.2)\n",
      "Requirement already satisfied: numpy in /Users/elonazharri/opt/anaconda3/lib/python3.7/site-packages (from xgboost) (1.20.2)\n",
      "Installing collected packages: xgboost\n",
      "Successfully installed xgboost-1.4.2\n"
     ]
    }
   ],
   "source": [
    "!pip install xgboost"
   ]
  },
  {
   "cell_type": "code",
   "execution_count": 168,
   "id": "6bfd547f",
   "metadata": {},
   "outputs": [
    {
     "name": "stdout",
     "output_type": "stream",
     "text": [
      "<class 'pandas.core.frame.DataFrame'>\n",
      "RangeIndex: 50000 entries, 0 to 49999\n",
      "Data columns (total 13 columns):\n",
      " #   Column                  Non-Null Count  Dtype  \n",
      "---  ------                  --------------  -----  \n",
      " 0   trips_in_first_30_days  50000 non-null  int64  \n",
      " 1   avg_rating_of_driver    50000 non-null  float64\n",
      " 2   avg_surge               50000 non-null  float64\n",
      " 3   surge_pct               50000 non-null  float64\n",
      " 4   ultimate_black_user     50000 non-null  int64  \n",
      " 5   weekday_pct             50000 non-null  float64\n",
      " 6   avg_dist                50000 non-null  float64\n",
      " 7   avg_rating_by_driver    50000 non-null  float64\n",
      " 8   retained                50000 non-null  int64  \n",
      " 9   city_Astapor            50000 non-null  uint8  \n",
      " 10  city_King's Landing     50000 non-null  uint8  \n",
      " 11  phone_Android           50000 non-null  uint8  \n",
      " 12  phone_iPhone            50000 non-null  uint8  \n",
      "dtypes: float64(6), int64(3), uint8(4)\n",
      "memory usage: 3.6 MB\n"
     ]
    }
   ],
   "source": [
    "df.info()"
   ]
  },
  {
   "cell_type": "code",
   "execution_count": 169,
   "id": "a1edc980",
   "metadata": {},
   "outputs": [],
   "source": [
    "from sklearn.model_selection import RandomizedSearchCV, cross_val_score, train_test_split\n",
    "from sklearn.ensemble import RandomForestClassifier\n",
    "from sklearn.metrics import plot_confusion_matrix, precision_recall_fscore_support, plot_precision_recall_curve, balanced_accuracy_score\n",
    "import xgboost as xgb\n",
    "from sklearn import preprocessing\n",
    "\n",
    "X = df.drop(columns='retained').values\n",
    "y = df.retained.values\n",
    "\n",
    "X_train, X_test, y_train, y_test = train_test_split(X, y, test_size=0.2, random_state=1)\n",
    "#le = preprocessing.LabelEncoder()\n",
    "#le.fit(y_train)"
   ]
  },
  {
   "cell_type": "code",
   "execution_count": 170,
   "id": "49a43d9d",
   "metadata": {},
   "outputs": [
    {
     "name": "stdout",
     "output_type": "stream",
     "text": [
      "Fitting 3 folds for each of 10 candidates, totalling 30 fits\n",
      "[CV 1/3] END criterion=entropy, max_depth=10, max_features=auto, min_samples_leaf=4, min_samples_split=4, n_estimators=100;, score=0.759 total time=   1.7s\n",
      "[CV 2/3] END criterion=entropy, max_depth=10, max_features=auto, min_samples_leaf=4, min_samples_split=4, n_estimators=100;, score=0.756 total time=   1.7s\n",
      "[CV 3/3] END criterion=entropy, max_depth=10, max_features=auto, min_samples_leaf=4, min_samples_split=4, n_estimators=100;, score=0.758 total time=   1.7s\n",
      "[CV 1/3] END criterion=gini, max_depth=50, max_features=auto, min_samples_leaf=1, min_samples_split=10, n_estimators=500;, score=0.749 total time=  11.5s\n",
      "[CV 2/3] END criterion=gini, max_depth=50, max_features=auto, min_samples_leaf=1, min_samples_split=10, n_estimators=500;, score=0.752 total time=  12.4s\n",
      "[CV 3/3] END criterion=gini, max_depth=50, max_features=auto, min_samples_leaf=1, min_samples_split=10, n_estimators=500;, score=0.757 total time=  11.2s\n",
      "[CV 1/3] END criterion=gini, max_depth=50, max_features=sqrt, min_samples_leaf=1, min_samples_split=2, n_estimators=500;, score=0.741 total time=  12.3s\n",
      "[CV 2/3] END criterion=gini, max_depth=50, max_features=sqrt, min_samples_leaf=1, min_samples_split=2, n_estimators=500;, score=0.736 total time=  12.1s\n",
      "[CV 3/3] END criterion=gini, max_depth=50, max_features=sqrt, min_samples_leaf=1, min_samples_split=2, n_estimators=500;, score=0.741 total time=  12.1s\n",
      "[CV 1/3] END criterion=gini, max_depth=10, max_features=auto, min_samples_leaf=4, min_samples_split=2, n_estimators=500;, score=0.758 total time=   7.6s\n",
      "[CV 2/3] END criterion=gini, max_depth=10, max_features=auto, min_samples_leaf=4, min_samples_split=2, n_estimators=500;, score=0.756 total time=   7.5s\n",
      "[CV 3/3] END criterion=gini, max_depth=10, max_features=auto, min_samples_leaf=4, min_samples_split=2, n_estimators=500;, score=0.759 total time=   7.6s\n",
      "[CV 1/3] END criterion=gini, max_depth=100, max_features=sqrt, min_samples_leaf=4, min_samples_split=4, n_estimators=200;, score=0.757 total time=   3.8s\n",
      "[CV 2/3] END criterion=gini, max_depth=100, max_features=sqrt, min_samples_leaf=4, min_samples_split=4, n_estimators=200;, score=0.757 total time=   3.8s\n",
      "[CV 3/3] END criterion=gini, max_depth=100, max_features=sqrt, min_samples_leaf=4, min_samples_split=4, n_estimators=200;, score=0.760 total time=   3.9s\n",
      "[CV 1/3] END criterion=entropy, max_depth=10, max_features=sqrt, min_samples_leaf=4, min_samples_split=4, n_estimators=1000;, score=0.758 total time=  17.0s\n",
      "[CV 2/3] END criterion=entropy, max_depth=10, max_features=sqrt, min_samples_leaf=4, min_samples_split=4, n_estimators=1000;, score=0.755 total time=  16.5s\n",
      "[CV 3/3] END criterion=entropy, max_depth=10, max_features=sqrt, min_samples_leaf=4, min_samples_split=4, n_estimators=1000;, score=0.759 total time=  17.2s\n",
      "[CV 1/3] END criterion=gini, max_depth=50, max_features=sqrt, min_samples_leaf=4, min_samples_split=4, n_estimators=1000;, score=0.757 total time=  19.6s\n",
      "[CV 2/3] END criterion=gini, max_depth=50, max_features=sqrt, min_samples_leaf=4, min_samples_split=4, n_estimators=1000;, score=0.755 total time=  19.3s\n",
      "[CV 3/3] END criterion=gini, max_depth=50, max_features=sqrt, min_samples_leaf=4, min_samples_split=4, n_estimators=1000;, score=0.760 total time=  20.2s\n",
      "[CV 1/3] END criterion=gini, max_depth=10, max_features=sqrt, min_samples_leaf=4, min_samples_split=10, n_estimators=1000;, score=0.758 total time=  15.9s\n",
      "[CV 2/3] END criterion=gini, max_depth=10, max_features=sqrt, min_samples_leaf=4, min_samples_split=10, n_estimators=1000;, score=0.756 total time=  15.1s\n",
      "[CV 3/3] END criterion=gini, max_depth=10, max_features=sqrt, min_samples_leaf=4, min_samples_split=10, n_estimators=1000;, score=0.759 total time=  15.4s\n",
      "[CV 1/3] END criterion=entropy, max_depth=10, max_features=auto, min_samples_leaf=4, min_samples_split=4, n_estimators=500;, score=0.759 total time=   8.2s\n",
      "[CV 2/3] END criterion=entropy, max_depth=10, max_features=auto, min_samples_leaf=4, min_samples_split=4, n_estimators=500;, score=0.754 total time=   8.5s\n",
      "[CV 3/3] END criterion=entropy, max_depth=10, max_features=auto, min_samples_leaf=4, min_samples_split=4, n_estimators=500;, score=0.758 total time=   8.4s\n",
      "[CV 1/3] END criterion=gini, max_depth=50, max_features=sqrt, min_samples_leaf=1, min_samples_split=4, n_estimators=1000;, score=0.745 total time=  24.3s\n",
      "[CV 2/3] END criterion=gini, max_depth=50, max_features=sqrt, min_samples_leaf=1, min_samples_split=4, n_estimators=1000;, score=0.742 total time=  23.6s\n",
      "[CV 3/3] END criterion=gini, max_depth=50, max_features=sqrt, min_samples_leaf=1, min_samples_split=4, n_estimators=1000;, score=0.748 total time=  23.5s\n"
     ]
    },
    {
     "data": {
      "text/plain": [
       "RandomizedSearchCV(cv=3, estimator=RandomForestClassifier(random_state=1),\n",
       "                   param_distributions={'criterion': ['gini', 'entropy'],\n",
       "                                        'max_depth': [None, 10, 50, 100],\n",
       "                                        'max_features': ['auto', 'sqrt'],\n",
       "                                        'min_samples_leaf': [1, 4],\n",
       "                                        'min_samples_split': [2, 4, 10],\n",
       "                                        'n_estimators': [100, 200, 500, 1000]},\n",
       "                   random_state=1, scoring='balanced_accuracy', verbose=5)"
      ]
     },
     "execution_count": 170,
     "metadata": {},
     "output_type": "execute_result"
    }
   ],
   "source": [
    "params = {\n",
    " 'max_depth': [None, 10, 50, 100],\n",
    " 'criterion': ['gini', 'entropy'],\n",
    " 'max_features': ['auto', 'sqrt'],\n",
    " 'min_samples_leaf': [1, 4],\n",
    " 'min_samples_split': [2, 4, 10],\n",
    " 'n_estimators': [100, 200, 500, 1000]\n",
    "}\n",
    "\n",
    "rf = RandomForestClassifier(random_state=1)\n",
    "rf_cv = RandomizedSearchCV(rf, params, cv=3, scoring='balanced_accuracy', verbose=5, random_state=1)\n",
    "rf_cv.fit(X_train, y_train)"
   ]
  },
  {
   "cell_type": "code",
   "execution_count": 171,
   "id": "3ea3df37",
   "metadata": {},
   "outputs": [
    {
     "data": {
      "text/html": [
       "<div>\n",
       "<style scoped>\n",
       "    .dataframe tbody tr th:only-of-type {\n",
       "        vertical-align: middle;\n",
       "    }\n",
       "\n",
       "    .dataframe tbody tr th {\n",
       "        vertical-align: top;\n",
       "    }\n",
       "\n",
       "    .dataframe thead th {\n",
       "        text-align: right;\n",
       "    }\n",
       "</style>\n",
       "<table border=\"1\" class=\"dataframe\">\n",
       "  <thead>\n",
       "    <tr style=\"text-align: right;\">\n",
       "      <th></th>\n",
       "      <th>4</th>\n",
       "      <th>7</th>\n",
       "      <th>3</th>\n",
       "      <th>0</th>\n",
       "      <th>6</th>\n",
       "      <th>5</th>\n",
       "      <th>8</th>\n",
       "      <th>1</th>\n",
       "      <th>9</th>\n",
       "      <th>2</th>\n",
       "    </tr>\n",
       "  </thead>\n",
       "  <tbody>\n",
       "    <tr>\n",
       "      <th>mean_fit_time</th>\n",
       "      <td>3.486861</td>\n",
       "      <td>14.091963</td>\n",
       "      <td>6.847984</td>\n",
       "      <td>1.543468</td>\n",
       "      <td>17.829983</td>\n",
       "      <td>15.499497</td>\n",
       "      <td>7.690043</td>\n",
       "      <td>10.550323</td>\n",
       "      <td>21.380092</td>\n",
       "      <td>10.947582</td>\n",
       "    </tr>\n",
       "    <tr>\n",
       "      <th>std_fit_time</th>\n",
       "      <td>0.019125</td>\n",
       "      <td>0.297734</td>\n",
       "      <td>0.029541</td>\n",
       "      <td>0.018666</td>\n",
       "      <td>0.329218</td>\n",
       "      <td>0.251745</td>\n",
       "      <td>0.130911</td>\n",
       "      <td>0.406037</td>\n",
       "      <td>0.292089</td>\n",
       "      <td>0.090513</td>\n",
       "    </tr>\n",
       "    <tr>\n",
       "      <th>mean_score_time</th>\n",
       "      <td>0.364124</td>\n",
       "      <td>1.370102</td>\n",
       "      <td>0.684003</td>\n",
       "      <td>0.146319</td>\n",
       "      <td>1.837124</td>\n",
       "      <td>1.394064</td>\n",
       "      <td>0.665095</td>\n",
       "      <td>1.179092</td>\n",
       "      <td>2.400791</td>\n",
       "      <td>1.237417</td>\n",
       "    </tr>\n",
       "    <tr>\n",
       "      <th>std_score_time</th>\n",
       "      <td>0.002145</td>\n",
       "      <td>0.031154</td>\n",
       "      <td>0.015145</td>\n",
       "      <td>0.008952</td>\n",
       "      <td>0.04538</td>\n",
       "      <td>0.103367</td>\n",
       "      <td>0.000598</td>\n",
       "      <td>0.112912</td>\n",
       "      <td>0.093211</td>\n",
       "      <td>0.014865</td>\n",
       "    </tr>\n",
       "    <tr>\n",
       "      <th>param_n_estimators</th>\n",
       "      <td>200</td>\n",
       "      <td>1000</td>\n",
       "      <td>500</td>\n",
       "      <td>100</td>\n",
       "      <td>1000</td>\n",
       "      <td>1000</td>\n",
       "      <td>500</td>\n",
       "      <td>500</td>\n",
       "      <td>1000</td>\n",
       "      <td>500</td>\n",
       "    </tr>\n",
       "    <tr>\n",
       "      <th>param_min_samples_split</th>\n",
       "      <td>4</td>\n",
       "      <td>10</td>\n",
       "      <td>2</td>\n",
       "      <td>4</td>\n",
       "      <td>4</td>\n",
       "      <td>4</td>\n",
       "      <td>4</td>\n",
       "      <td>10</td>\n",
       "      <td>4</td>\n",
       "      <td>2</td>\n",
       "    </tr>\n",
       "    <tr>\n",
       "      <th>param_min_samples_leaf</th>\n",
       "      <td>4</td>\n",
       "      <td>4</td>\n",
       "      <td>4</td>\n",
       "      <td>4</td>\n",
       "      <td>4</td>\n",
       "      <td>4</td>\n",
       "      <td>4</td>\n",
       "      <td>1</td>\n",
       "      <td>1</td>\n",
       "      <td>1</td>\n",
       "    </tr>\n",
       "    <tr>\n",
       "      <th>param_max_features</th>\n",
       "      <td>sqrt</td>\n",
       "      <td>sqrt</td>\n",
       "      <td>auto</td>\n",
       "      <td>auto</td>\n",
       "      <td>sqrt</td>\n",
       "      <td>sqrt</td>\n",
       "      <td>auto</td>\n",
       "      <td>auto</td>\n",
       "      <td>sqrt</td>\n",
       "      <td>sqrt</td>\n",
       "    </tr>\n",
       "    <tr>\n",
       "      <th>param_max_depth</th>\n",
       "      <td>100</td>\n",
       "      <td>10</td>\n",
       "      <td>10</td>\n",
       "      <td>10</td>\n",
       "      <td>50</td>\n",
       "      <td>10</td>\n",
       "      <td>10</td>\n",
       "      <td>50</td>\n",
       "      <td>50</td>\n",
       "      <td>50</td>\n",
       "    </tr>\n",
       "    <tr>\n",
       "      <th>param_criterion</th>\n",
       "      <td>gini</td>\n",
       "      <td>gini</td>\n",
       "      <td>gini</td>\n",
       "      <td>entropy</td>\n",
       "      <td>gini</td>\n",
       "      <td>entropy</td>\n",
       "      <td>entropy</td>\n",
       "      <td>gini</td>\n",
       "      <td>gini</td>\n",
       "      <td>gini</td>\n",
       "    </tr>\n",
       "    <tr>\n",
       "      <th>params</th>\n",
       "      <td>{'n_estimators': 200, 'min_samples_split': 4, ...</td>\n",
       "      <td>{'n_estimators': 1000, 'min_samples_split': 10...</td>\n",
       "      <td>{'n_estimators': 500, 'min_samples_split': 2, ...</td>\n",
       "      <td>{'n_estimators': 100, 'min_samples_split': 4, ...</td>\n",
       "      <td>{'n_estimators': 1000, 'min_samples_split': 4,...</td>\n",
       "      <td>{'n_estimators': 1000, 'min_samples_split': 4,...</td>\n",
       "      <td>{'n_estimators': 500, 'min_samples_split': 4, ...</td>\n",
       "      <td>{'n_estimators': 500, 'min_samples_split': 10,...</td>\n",
       "      <td>{'n_estimators': 1000, 'min_samples_split': 4,...</td>\n",
       "      <td>{'n_estimators': 500, 'min_samples_split': 2, ...</td>\n",
       "    </tr>\n",
       "    <tr>\n",
       "      <th>split0_test_score</th>\n",
       "      <td>0.757071</td>\n",
       "      <td>0.75753</td>\n",
       "      <td>0.75779</td>\n",
       "      <td>0.758672</td>\n",
       "      <td>0.75661</td>\n",
       "      <td>0.75751</td>\n",
       "      <td>0.75875</td>\n",
       "      <td>0.749112</td>\n",
       "      <td>0.744745</td>\n",
       "      <td>0.741414</td>\n",
       "    </tr>\n",
       "    <tr>\n",
       "      <th>split1_test_score</th>\n",
       "      <td>0.756803</td>\n",
       "      <td>0.756325</td>\n",
       "      <td>0.755803</td>\n",
       "      <td>0.755825</td>\n",
       "      <td>0.755341</td>\n",
       "      <td>0.755243</td>\n",
       "      <td>0.754364</td>\n",
       "      <td>0.752407</td>\n",
       "      <td>0.742198</td>\n",
       "      <td>0.736403</td>\n",
       "    </tr>\n",
       "    <tr>\n",
       "      <th>split2_test_score</th>\n",
       "      <td>0.760033</td>\n",
       "      <td>0.759468</td>\n",
       "      <td>0.759127</td>\n",
       "      <td>0.757587</td>\n",
       "      <td>0.760033</td>\n",
       "      <td>0.758867</td>\n",
       "      <td>0.758408</td>\n",
       "      <td>0.757183</td>\n",
       "      <td>0.747956</td>\n",
       "      <td>0.740958</td>\n",
       "    </tr>\n",
       "    <tr>\n",
       "      <th>mean_test_score</th>\n",
       "      <td>0.757969</td>\n",
       "      <td>0.757774</td>\n",
       "      <td>0.757574</td>\n",
       "      <td>0.757361</td>\n",
       "      <td>0.757328</td>\n",
       "      <td>0.757207</td>\n",
       "      <td>0.757174</td>\n",
       "      <td>0.752901</td>\n",
       "      <td>0.744966</td>\n",
       "      <td>0.739592</td>\n",
       "    </tr>\n",
       "    <tr>\n",
       "      <th>std_test_score</th>\n",
       "      <td>0.001464</td>\n",
       "      <td>0.001295</td>\n",
       "      <td>0.001366</td>\n",
       "      <td>0.001173</td>\n",
       "      <td>0.001982</td>\n",
       "      <td>0.001495</td>\n",
       "      <td>0.001992</td>\n",
       "      <td>0.003314</td>\n",
       "      <td>0.002356</td>\n",
       "      <td>0.002262</td>\n",
       "    </tr>\n",
       "    <tr>\n",
       "      <th>rank_test_score</th>\n",
       "      <td>1</td>\n",
       "      <td>2</td>\n",
       "      <td>3</td>\n",
       "      <td>4</td>\n",
       "      <td>5</td>\n",
       "      <td>6</td>\n",
       "      <td>7</td>\n",
       "      <td>8</td>\n",
       "      <td>9</td>\n",
       "      <td>10</td>\n",
       "    </tr>\n",
       "  </tbody>\n",
       "</table>\n",
       "</div>"
      ],
      "text/plain": [
       "                                                                         4  \\\n",
       "mean_fit_time                                                     3.486861   \n",
       "std_fit_time                                                      0.019125   \n",
       "mean_score_time                                                   0.364124   \n",
       "std_score_time                                                    0.002145   \n",
       "param_n_estimators                                                     200   \n",
       "param_min_samples_split                                                  4   \n",
       "param_min_samples_leaf                                                   4   \n",
       "param_max_features                                                    sqrt   \n",
       "param_max_depth                                                        100   \n",
       "param_criterion                                                       gini   \n",
       "params                   {'n_estimators': 200, 'min_samples_split': 4, ...   \n",
       "split0_test_score                                                 0.757071   \n",
       "split1_test_score                                                 0.756803   \n",
       "split2_test_score                                                 0.760033   \n",
       "mean_test_score                                                   0.757969   \n",
       "std_test_score                                                    0.001464   \n",
       "rank_test_score                                                          1   \n",
       "\n",
       "                                                                         7  \\\n",
       "mean_fit_time                                                    14.091963   \n",
       "std_fit_time                                                      0.297734   \n",
       "mean_score_time                                                   1.370102   \n",
       "std_score_time                                                    0.031154   \n",
       "param_n_estimators                                                    1000   \n",
       "param_min_samples_split                                                 10   \n",
       "param_min_samples_leaf                                                   4   \n",
       "param_max_features                                                    sqrt   \n",
       "param_max_depth                                                         10   \n",
       "param_criterion                                                       gini   \n",
       "params                   {'n_estimators': 1000, 'min_samples_split': 10...   \n",
       "split0_test_score                                                  0.75753   \n",
       "split1_test_score                                                 0.756325   \n",
       "split2_test_score                                                 0.759468   \n",
       "mean_test_score                                                   0.757774   \n",
       "std_test_score                                                    0.001295   \n",
       "rank_test_score                                                          2   \n",
       "\n",
       "                                                                         3  \\\n",
       "mean_fit_time                                                     6.847984   \n",
       "std_fit_time                                                      0.029541   \n",
       "mean_score_time                                                   0.684003   \n",
       "std_score_time                                                    0.015145   \n",
       "param_n_estimators                                                     500   \n",
       "param_min_samples_split                                                  2   \n",
       "param_min_samples_leaf                                                   4   \n",
       "param_max_features                                                    auto   \n",
       "param_max_depth                                                         10   \n",
       "param_criterion                                                       gini   \n",
       "params                   {'n_estimators': 500, 'min_samples_split': 2, ...   \n",
       "split0_test_score                                                  0.75779   \n",
       "split1_test_score                                                 0.755803   \n",
       "split2_test_score                                                 0.759127   \n",
       "mean_test_score                                                   0.757574   \n",
       "std_test_score                                                    0.001366   \n",
       "rank_test_score                                                          3   \n",
       "\n",
       "                                                                         0  \\\n",
       "mean_fit_time                                                     1.543468   \n",
       "std_fit_time                                                      0.018666   \n",
       "mean_score_time                                                   0.146319   \n",
       "std_score_time                                                    0.008952   \n",
       "param_n_estimators                                                     100   \n",
       "param_min_samples_split                                                  4   \n",
       "param_min_samples_leaf                                                   4   \n",
       "param_max_features                                                    auto   \n",
       "param_max_depth                                                         10   \n",
       "param_criterion                                                    entropy   \n",
       "params                   {'n_estimators': 100, 'min_samples_split': 4, ...   \n",
       "split0_test_score                                                 0.758672   \n",
       "split1_test_score                                                 0.755825   \n",
       "split2_test_score                                                 0.757587   \n",
       "mean_test_score                                                   0.757361   \n",
       "std_test_score                                                    0.001173   \n",
       "rank_test_score                                                          4   \n",
       "\n",
       "                                                                         6  \\\n",
       "mean_fit_time                                                    17.829983   \n",
       "std_fit_time                                                      0.329218   \n",
       "mean_score_time                                                   1.837124   \n",
       "std_score_time                                                     0.04538   \n",
       "param_n_estimators                                                    1000   \n",
       "param_min_samples_split                                                  4   \n",
       "param_min_samples_leaf                                                   4   \n",
       "param_max_features                                                    sqrt   \n",
       "param_max_depth                                                         50   \n",
       "param_criterion                                                       gini   \n",
       "params                   {'n_estimators': 1000, 'min_samples_split': 4,...   \n",
       "split0_test_score                                                  0.75661   \n",
       "split1_test_score                                                 0.755341   \n",
       "split2_test_score                                                 0.760033   \n",
       "mean_test_score                                                   0.757328   \n",
       "std_test_score                                                    0.001982   \n",
       "rank_test_score                                                          5   \n",
       "\n",
       "                                                                         5  \\\n",
       "mean_fit_time                                                    15.499497   \n",
       "std_fit_time                                                      0.251745   \n",
       "mean_score_time                                                   1.394064   \n",
       "std_score_time                                                    0.103367   \n",
       "param_n_estimators                                                    1000   \n",
       "param_min_samples_split                                                  4   \n",
       "param_min_samples_leaf                                                   4   \n",
       "param_max_features                                                    sqrt   \n",
       "param_max_depth                                                         10   \n",
       "param_criterion                                                    entropy   \n",
       "params                   {'n_estimators': 1000, 'min_samples_split': 4,...   \n",
       "split0_test_score                                                  0.75751   \n",
       "split1_test_score                                                 0.755243   \n",
       "split2_test_score                                                 0.758867   \n",
       "mean_test_score                                                   0.757207   \n",
       "std_test_score                                                    0.001495   \n",
       "rank_test_score                                                          6   \n",
       "\n",
       "                                                                         8  \\\n",
       "mean_fit_time                                                     7.690043   \n",
       "std_fit_time                                                      0.130911   \n",
       "mean_score_time                                                   0.665095   \n",
       "std_score_time                                                    0.000598   \n",
       "param_n_estimators                                                     500   \n",
       "param_min_samples_split                                                  4   \n",
       "param_min_samples_leaf                                                   4   \n",
       "param_max_features                                                    auto   \n",
       "param_max_depth                                                         10   \n",
       "param_criterion                                                    entropy   \n",
       "params                   {'n_estimators': 500, 'min_samples_split': 4, ...   \n",
       "split0_test_score                                                  0.75875   \n",
       "split1_test_score                                                 0.754364   \n",
       "split2_test_score                                                 0.758408   \n",
       "mean_test_score                                                   0.757174   \n",
       "std_test_score                                                    0.001992   \n",
       "rank_test_score                                                          7   \n",
       "\n",
       "                                                                         1  \\\n",
       "mean_fit_time                                                    10.550323   \n",
       "std_fit_time                                                      0.406037   \n",
       "mean_score_time                                                   1.179092   \n",
       "std_score_time                                                    0.112912   \n",
       "param_n_estimators                                                     500   \n",
       "param_min_samples_split                                                 10   \n",
       "param_min_samples_leaf                                                   1   \n",
       "param_max_features                                                    auto   \n",
       "param_max_depth                                                         50   \n",
       "param_criterion                                                       gini   \n",
       "params                   {'n_estimators': 500, 'min_samples_split': 10,...   \n",
       "split0_test_score                                                 0.749112   \n",
       "split1_test_score                                                 0.752407   \n",
       "split2_test_score                                                 0.757183   \n",
       "mean_test_score                                                   0.752901   \n",
       "std_test_score                                                    0.003314   \n",
       "rank_test_score                                                          8   \n",
       "\n",
       "                                                                         9  \\\n",
       "mean_fit_time                                                    21.380092   \n",
       "std_fit_time                                                      0.292089   \n",
       "mean_score_time                                                   2.400791   \n",
       "std_score_time                                                    0.093211   \n",
       "param_n_estimators                                                    1000   \n",
       "param_min_samples_split                                                  4   \n",
       "param_min_samples_leaf                                                   1   \n",
       "param_max_features                                                    sqrt   \n",
       "param_max_depth                                                         50   \n",
       "param_criterion                                                       gini   \n",
       "params                   {'n_estimators': 1000, 'min_samples_split': 4,...   \n",
       "split0_test_score                                                 0.744745   \n",
       "split1_test_score                                                 0.742198   \n",
       "split2_test_score                                                 0.747956   \n",
       "mean_test_score                                                   0.744966   \n",
       "std_test_score                                                    0.002356   \n",
       "rank_test_score                                                          9   \n",
       "\n",
       "                                                                         2  \n",
       "mean_fit_time                                                    10.947582  \n",
       "std_fit_time                                                      0.090513  \n",
       "mean_score_time                                                   1.237417  \n",
       "std_score_time                                                    0.014865  \n",
       "param_n_estimators                                                     500  \n",
       "param_min_samples_split                                                  2  \n",
       "param_min_samples_leaf                                                   1  \n",
       "param_max_features                                                    sqrt  \n",
       "param_max_depth                                                         50  \n",
       "param_criterion                                                       gini  \n",
       "params                   {'n_estimators': 500, 'min_samples_split': 2, ...  \n",
       "split0_test_score                                                 0.741414  \n",
       "split1_test_score                                                 0.736403  \n",
       "split2_test_score                                                 0.740958  \n",
       "mean_test_score                                                   0.739592  \n",
       "std_test_score                                                    0.002262  \n",
       "rank_test_score                                                         10  "
      ]
     },
     "execution_count": 171,
     "metadata": {},
     "output_type": "execute_result"
    }
   ],
   "source": [
    "#examine cv results\n",
    "pd.DataFrame(rf_cv.cv_results_).sort_values('rank_test_score').T"
   ]
  },
  {
   "cell_type": "markdown",
   "id": "a18a5494",
   "metadata": {},
   "source": [
    "# XGBoost Classifier"
   ]
  },
  {
   "cell_type": "code",
   "execution_count": 172,
   "id": "cefd52f7",
   "metadata": {},
   "outputs": [
    {
     "name": "stdout",
     "output_type": "stream",
     "text": [
      "Fitting 3 folds for each of 10 candidates, totalling 30 fits\n",
      "[21:02:20] WARNING: /Users/travis/build/dmlc/xgboost/src/learner.cc:1095: Starting in XGBoost 1.3.0, the default evaluation metric used with the objective 'binary:logistic' was changed from 'error' to 'logloss'. Explicitly set eval_metric if you'd like to restore the old behavior.\n"
     ]
    },
    {
     "name": "stderr",
     "output_type": "stream",
     "text": [
      "/Users/elonazharri/opt/anaconda3/lib/python3.7/site-packages/xgboost/sklearn.py:1146: UserWarning: The use of label encoder in XGBClassifier is deprecated and will be removed in a future release. To remove this warning, do the following: 1) Pass option use_label_encoder=False when constructing XGBClassifier object; and 2) Encode your labels (y) as integers starting with 0, i.e. 0, 1, 2, ..., [num_class - 1].\n",
      "  warnings.warn(label_encoder_deprecation_msg, UserWarning)\n"
     ]
    },
    {
     "name": "stdout",
     "output_type": "stream",
     "text": [
      "[CV 1/3] END colsample_bytree=1, gamma=0, learning_rate=0.001, max_depth=50, min_child_weight=1.0, n_estimators=20, objective=binary:logistic;, score=0.717 total time=   1.3s\n",
      "[21:02:22] WARNING: /Users/travis/build/dmlc/xgboost/src/learner.cc:1095: Starting in XGBoost 1.3.0, the default evaluation metric used with the objective 'binary:logistic' was changed from 'error' to 'logloss'. Explicitly set eval_metric if you'd like to restore the old behavior.\n"
     ]
    },
    {
     "name": "stderr",
     "output_type": "stream",
     "text": [
      "/Users/elonazharri/opt/anaconda3/lib/python3.7/site-packages/xgboost/sklearn.py:1146: UserWarning: The use of label encoder in XGBClassifier is deprecated and will be removed in a future release. To remove this warning, do the following: 1) Pass option use_label_encoder=False when constructing XGBClassifier object; and 2) Encode your labels (y) as integers starting with 0, i.e. 0, 1, 2, ..., [num_class - 1].\n",
      "  warnings.warn(label_encoder_deprecation_msg, UserWarning)\n"
     ]
    },
    {
     "name": "stdout",
     "output_type": "stream",
     "text": [
      "[CV 2/3] END colsample_bytree=1, gamma=0, learning_rate=0.001, max_depth=50, min_child_weight=1.0, n_estimators=20, objective=binary:logistic;, score=0.715 total time=   1.3s\n",
      "[21:02:23] WARNING: /Users/travis/build/dmlc/xgboost/src/learner.cc:1095: Starting in XGBoost 1.3.0, the default evaluation metric used with the objective 'binary:logistic' was changed from 'error' to 'logloss'. Explicitly set eval_metric if you'd like to restore the old behavior.\n"
     ]
    },
    {
     "name": "stderr",
     "output_type": "stream",
     "text": [
      "/Users/elonazharri/opt/anaconda3/lib/python3.7/site-packages/xgboost/sklearn.py:1146: UserWarning: The use of label encoder in XGBClassifier is deprecated and will be removed in a future release. To remove this warning, do the following: 1) Pass option use_label_encoder=False when constructing XGBClassifier object; and 2) Encode your labels (y) as integers starting with 0, i.e. 0, 1, 2, ..., [num_class - 1].\n",
      "  warnings.warn(label_encoder_deprecation_msg, UserWarning)\n"
     ]
    },
    {
     "name": "stdout",
     "output_type": "stream",
     "text": [
      "[CV 3/3] END colsample_bytree=1, gamma=0, learning_rate=0.001, max_depth=50, min_child_weight=1.0, n_estimators=20, objective=binary:logistic;, score=0.714 total time=   1.3s\n",
      "[21:02:24] WARNING: /Users/travis/build/dmlc/xgboost/src/learner.cc:1095: Starting in XGBoost 1.3.0, the default evaluation metric used with the objective 'binary:logistic' was changed from 'error' to 'logloss'. Explicitly set eval_metric if you'd like to restore the old behavior.\n"
     ]
    },
    {
     "name": "stderr",
     "output_type": "stream",
     "text": [
      "/Users/elonazharri/opt/anaconda3/lib/python3.7/site-packages/xgboost/sklearn.py:1146: UserWarning: The use of label encoder in XGBClassifier is deprecated and will be removed in a future release. To remove this warning, do the following: 1) Pass option use_label_encoder=False when constructing XGBClassifier object; and 2) Encode your labels (y) as integers starting with 0, i.e. 0, 1, 2, ..., [num_class - 1].\n",
      "  warnings.warn(label_encoder_deprecation_msg, UserWarning)\n"
     ]
    },
    {
     "name": "stdout",
     "output_type": "stream",
     "text": [
      "[CV 1/3] END colsample_bytree=0.5, gamma=0, learning_rate=0.2, max_depth=50, min_child_weight=3.0, n_estimators=100, objective=binary:logistic;, score=0.751 total time=   3.7s\n",
      "[21:02:28] WARNING: /Users/travis/build/dmlc/xgboost/src/learner.cc:1095: Starting in XGBoost 1.3.0, the default evaluation metric used with the objective 'binary:logistic' was changed from 'error' to 'logloss'. Explicitly set eval_metric if you'd like to restore the old behavior.\n"
     ]
    },
    {
     "name": "stderr",
     "output_type": "stream",
     "text": [
      "/Users/elonazharri/opt/anaconda3/lib/python3.7/site-packages/xgboost/sklearn.py:1146: UserWarning: The use of label encoder in XGBClassifier is deprecated and will be removed in a future release. To remove this warning, do the following: 1) Pass option use_label_encoder=False when constructing XGBClassifier object; and 2) Encode your labels (y) as integers starting with 0, i.e. 0, 1, 2, ..., [num_class - 1].\n",
      "  warnings.warn(label_encoder_deprecation_msg, UserWarning)\n"
     ]
    },
    {
     "name": "stdout",
     "output_type": "stream",
     "text": [
      "[CV 2/3] END colsample_bytree=0.5, gamma=0, learning_rate=0.2, max_depth=50, min_child_weight=3.0, n_estimators=100, objective=binary:logistic;, score=0.745 total time=   3.8s\n",
      "[21:02:32] WARNING: /Users/travis/build/dmlc/xgboost/src/learner.cc:1095: Starting in XGBoost 1.3.0, the default evaluation metric used with the objective 'binary:logistic' was changed from 'error' to 'logloss'. Explicitly set eval_metric if you'd like to restore the old behavior.\n"
     ]
    },
    {
     "name": "stderr",
     "output_type": "stream",
     "text": [
      "/Users/elonazharri/opt/anaconda3/lib/python3.7/site-packages/xgboost/sklearn.py:1146: UserWarning: The use of label encoder in XGBClassifier is deprecated and will be removed in a future release. To remove this warning, do the following: 1) Pass option use_label_encoder=False when constructing XGBClassifier object; and 2) Encode your labels (y) as integers starting with 0, i.e. 0, 1, 2, ..., [num_class - 1].\n",
      "  warnings.warn(label_encoder_deprecation_msg, UserWarning)\n"
     ]
    },
    {
     "name": "stdout",
     "output_type": "stream",
     "text": [
      "[CV 3/3] END colsample_bytree=0.5, gamma=0, learning_rate=0.2, max_depth=50, min_child_weight=3.0, n_estimators=100, objective=binary:logistic;, score=0.757 total time=   3.9s\n",
      "[21:02:36] WARNING: /Users/travis/build/dmlc/xgboost/src/learner.cc:1095: Starting in XGBoost 1.3.0, the default evaluation metric used with the objective 'binary:logistic' was changed from 'error' to 'logloss'. Explicitly set eval_metric if you'd like to restore the old behavior.\n",
      "[CV 1/3] END colsample_bytree=0.9, gamma=0, learning_rate=0.1, max_depth=None, min_child_weight=5.0, n_estimators=10, objective=binary:logistic;, score=0.754 total time=   0.2s\n",
      "[21:02:36] WARNING: /Users/travis/build/dmlc/xgboost/src/learner.cc:1095: Starting in XGBoost 1.3.0, the default evaluation metric used with the objective 'binary:logistic' was changed from 'error' to 'logloss'. Explicitly set eval_metric if you'd like to restore the old behavior.\n"
     ]
    },
    {
     "name": "stderr",
     "output_type": "stream",
     "text": [
      "/Users/elonazharri/opt/anaconda3/lib/python3.7/site-packages/xgboost/sklearn.py:1146: UserWarning: The use of label encoder in XGBClassifier is deprecated and will be removed in a future release. To remove this warning, do the following: 1) Pass option use_label_encoder=False when constructing XGBClassifier object; and 2) Encode your labels (y) as integers starting with 0, i.e. 0, 1, 2, ..., [num_class - 1].\n",
      "  warnings.warn(label_encoder_deprecation_msg, UserWarning)\n",
      "/Users/elonazharri/opt/anaconda3/lib/python3.7/site-packages/xgboost/sklearn.py:1146: UserWarning: The use of label encoder in XGBClassifier is deprecated and will be removed in a future release. To remove this warning, do the following: 1) Pass option use_label_encoder=False when constructing XGBClassifier object; and 2) Encode your labels (y) as integers starting with 0, i.e. 0, 1, 2, ..., [num_class - 1].\n",
      "  warnings.warn(label_encoder_deprecation_msg, UserWarning)\n"
     ]
    },
    {
     "name": "stdout",
     "output_type": "stream",
     "text": [
      "[CV 2/3] END colsample_bytree=0.9, gamma=0, learning_rate=0.1, max_depth=None, min_child_weight=5.0, n_estimators=10, objective=binary:logistic;, score=0.750 total time=   0.1s\n",
      "[21:02:36] WARNING: /Users/travis/build/dmlc/xgboost/src/learner.cc:1095: Starting in XGBoost 1.3.0, the default evaluation metric used with the objective 'binary:logistic' was changed from 'error' to 'logloss'. Explicitly set eval_metric if you'd like to restore the old behavior.\n",
      "[CV 3/3] END colsample_bytree=0.9, gamma=0, learning_rate=0.1, max_depth=None, min_child_weight=5.0, n_estimators=10, objective=binary:logistic;, score=0.755 total time=   0.1s\n",
      "[21:02:36] WARNING: /Users/travis/build/dmlc/xgboost/src/learner.cc:1095: Starting in XGBoost 1.3.0, the default evaluation metric used with the objective 'binary:logistic' was changed from 'error' to 'logloss'. Explicitly set eval_metric if you'd like to restore the old behavior.\n"
     ]
    },
    {
     "name": "stderr",
     "output_type": "stream",
     "text": [
      "/Users/elonazharri/opt/anaconda3/lib/python3.7/site-packages/xgboost/sklearn.py:1146: UserWarning: The use of label encoder in XGBClassifier is deprecated and will be removed in a future release. To remove this warning, do the following: 1) Pass option use_label_encoder=False when constructing XGBClassifier object; and 2) Encode your labels (y) as integers starting with 0, i.e. 0, 1, 2, ..., [num_class - 1].\n",
      "  warnings.warn(label_encoder_deprecation_msg, UserWarning)\n",
      "/Users/elonazharri/opt/anaconda3/lib/python3.7/site-packages/xgboost/sklearn.py:1146: UserWarning: The use of label encoder in XGBClassifier is deprecated and will be removed in a future release. To remove this warning, do the following: 1) Pass option use_label_encoder=False when constructing XGBClassifier object; and 2) Encode your labels (y) as integers starting with 0, i.e. 0, 1, 2, ..., [num_class - 1].\n",
      "  warnings.warn(label_encoder_deprecation_msg, UserWarning)\n"
     ]
    },
    {
     "name": "stdout",
     "output_type": "stream",
     "text": [
      "[CV 1/3] END colsample_bytree=1, gamma=0, learning_rate=0.01, max_depth=None, min_child_weight=3.0, n_estimators=10, objective=binary:logistic;, score=0.739 total time=   0.1s\n",
      "[21:02:36] WARNING: /Users/travis/build/dmlc/xgboost/src/learner.cc:1095: Starting in XGBoost 1.3.0, the default evaluation metric used with the objective 'binary:logistic' was changed from 'error' to 'logloss'. Explicitly set eval_metric if you'd like to restore the old behavior.\n",
      "[CV 2/3] END colsample_bytree=1, gamma=0, learning_rate=0.01, max_depth=None, min_child_weight=3.0, n_estimators=10, objective=binary:logistic;, score=0.744 total time=   0.2s\n",
      "[21:02:36] WARNING: /Users/travis/build/dmlc/xgboost/src/learner.cc:1095: Starting in XGBoost 1.3.0, the default evaluation metric used with the objective 'binary:logistic' was changed from 'error' to 'logloss'. Explicitly set eval_metric if you'd like to restore the old behavior.\n"
     ]
    },
    {
     "name": "stderr",
     "output_type": "stream",
     "text": [
      "/Users/elonazharri/opt/anaconda3/lib/python3.7/site-packages/xgboost/sklearn.py:1146: UserWarning: The use of label encoder in XGBClassifier is deprecated and will be removed in a future release. To remove this warning, do the following: 1) Pass option use_label_encoder=False when constructing XGBClassifier object; and 2) Encode your labels (y) as integers starting with 0, i.e. 0, 1, 2, ..., [num_class - 1].\n",
      "  warnings.warn(label_encoder_deprecation_msg, UserWarning)\n",
      "/Users/elonazharri/opt/anaconda3/lib/python3.7/site-packages/xgboost/sklearn.py:1146: UserWarning: The use of label encoder in XGBClassifier is deprecated and will be removed in a future release. To remove this warning, do the following: 1) Pass option use_label_encoder=False when constructing XGBClassifier object; and 2) Encode your labels (y) as integers starting with 0, i.e. 0, 1, 2, ..., [num_class - 1].\n",
      "  warnings.warn(label_encoder_deprecation_msg, UserWarning)\n"
     ]
    },
    {
     "name": "stdout",
     "output_type": "stream",
     "text": [
      "[CV 3/3] END colsample_bytree=1, gamma=0, learning_rate=0.01, max_depth=None, min_child_weight=3.0, n_estimators=10, objective=binary:logistic;, score=0.743 total time=   0.2s\n",
      "[21:02:37] WARNING: /Users/travis/build/dmlc/xgboost/src/learner.cc:1095: Starting in XGBoost 1.3.0, the default evaluation metric used with the objective 'binary:logistic' was changed from 'error' to 'logloss'. Explicitly set eval_metric if you'd like to restore the old behavior.\n"
     ]
    },
    {
     "name": "stderr",
     "output_type": "stream",
     "text": [
      "/Users/elonazharri/opt/anaconda3/lib/python3.7/site-packages/xgboost/sklearn.py:1146: UserWarning: The use of label encoder in XGBClassifier is deprecated and will be removed in a future release. To remove this warning, do the following: 1) Pass option use_label_encoder=False when constructing XGBClassifier object; and 2) Encode your labels (y) as integers starting with 0, i.e. 0, 1, 2, ..., [num_class - 1].\n",
      "  warnings.warn(label_encoder_deprecation_msg, UserWarning)\n"
     ]
    },
    {
     "name": "stdout",
     "output_type": "stream",
     "text": [
      "[CV 1/3] END colsample_bytree=0.5, gamma=0.5, learning_rate=0.3, max_depth=None, min_child_weight=3.0, n_estimators=20, objective=binary:logistic;, score=0.761 total time=   0.2s\n",
      "[21:02:37] WARNING: /Users/travis/build/dmlc/xgboost/src/learner.cc:1095: Starting in XGBoost 1.3.0, the default evaluation metric used with the objective 'binary:logistic' was changed from 'error' to 'logloss'. Explicitly set eval_metric if you'd like to restore the old behavior.\n"
     ]
    },
    {
     "name": "stderr",
     "output_type": "stream",
     "text": [
      "/Users/elonazharri/opt/anaconda3/lib/python3.7/site-packages/xgboost/sklearn.py:1146: UserWarning: The use of label encoder in XGBClassifier is deprecated and will be removed in a future release. To remove this warning, do the following: 1) Pass option use_label_encoder=False when constructing XGBClassifier object; and 2) Encode your labels (y) as integers starting with 0, i.e. 0, 1, 2, ..., [num_class - 1].\n",
      "  warnings.warn(label_encoder_deprecation_msg, UserWarning)\n"
     ]
    },
    {
     "name": "stdout",
     "output_type": "stream",
     "text": [
      "[CV 2/3] END colsample_bytree=0.5, gamma=0.5, learning_rate=0.3, max_depth=None, min_child_weight=3.0, n_estimators=20, objective=binary:logistic;, score=0.758 total time=   0.2s\n",
      "[21:02:37] WARNING: /Users/travis/build/dmlc/xgboost/src/learner.cc:1095: Starting in XGBoost 1.3.0, the default evaluation metric used with the objective 'binary:logistic' was changed from 'error' to 'logloss'. Explicitly set eval_metric if you'd like to restore the old behavior.\n"
     ]
    },
    {
     "name": "stderr",
     "output_type": "stream",
     "text": [
      "/Users/elonazharri/opt/anaconda3/lib/python3.7/site-packages/xgboost/sklearn.py:1146: UserWarning: The use of label encoder in XGBClassifier is deprecated and will be removed in a future release. To remove this warning, do the following: 1) Pass option use_label_encoder=False when constructing XGBClassifier object; and 2) Encode your labels (y) as integers starting with 0, i.e. 0, 1, 2, ..., [num_class - 1].\n",
      "  warnings.warn(label_encoder_deprecation_msg, UserWarning)\n"
     ]
    },
    {
     "name": "stdout",
     "output_type": "stream",
     "text": [
      "[CV 3/3] END colsample_bytree=0.5, gamma=0.5, learning_rate=0.3, max_depth=None, min_child_weight=3.0, n_estimators=20, objective=binary:logistic;, score=0.765 total time=   0.2s\n",
      "[21:02:37] WARNING: /Users/travis/build/dmlc/xgboost/src/learner.cc:1095: Starting in XGBoost 1.3.0, the default evaluation metric used with the objective 'binary:logistic' was changed from 'error' to 'logloss'. Explicitly set eval_metric if you'd like to restore the old behavior.\n"
     ]
    },
    {
     "name": "stderr",
     "output_type": "stream",
     "text": [
      "/Users/elonazharri/opt/anaconda3/lib/python3.7/site-packages/xgboost/sklearn.py:1146: UserWarning: The use of label encoder in XGBClassifier is deprecated and will be removed in a future release. To remove this warning, do the following: 1) Pass option use_label_encoder=False when constructing XGBClassifier object; and 2) Encode your labels (y) as integers starting with 0, i.e. 0, 1, 2, ..., [num_class - 1].\n",
      "  warnings.warn(label_encoder_deprecation_msg, UserWarning)\n"
     ]
    },
    {
     "name": "stdout",
     "output_type": "stream",
     "text": [
      "[CV 1/3] END colsample_bytree=0.8, gamma=0, learning_rate=0.2, max_depth=None, min_child_weight=3.0, n_estimators=100, objective=binary:logistic;, score=0.764 total time=   1.0s\n",
      "[21:02:38] WARNING: /Users/travis/build/dmlc/xgboost/src/learner.cc:1095: Starting in XGBoost 1.3.0, the default evaluation metric used with the objective 'binary:logistic' was changed from 'error' to 'logloss'. Explicitly set eval_metric if you'd like to restore the old behavior.\n"
     ]
    },
    {
     "name": "stderr",
     "output_type": "stream",
     "text": [
      "/Users/elonazharri/opt/anaconda3/lib/python3.7/site-packages/xgboost/sklearn.py:1146: UserWarning: The use of label encoder in XGBClassifier is deprecated and will be removed in a future release. To remove this warning, do the following: 1) Pass option use_label_encoder=False when constructing XGBClassifier object; and 2) Encode your labels (y) as integers starting with 0, i.e. 0, 1, 2, ..., [num_class - 1].\n",
      "  warnings.warn(label_encoder_deprecation_msg, UserWarning)\n"
     ]
    },
    {
     "name": "stdout",
     "output_type": "stream",
     "text": [
      "[CV 2/3] END colsample_bytree=0.8, gamma=0, learning_rate=0.2, max_depth=None, min_child_weight=3.0, n_estimators=100, objective=binary:logistic;, score=0.766 total time=   1.2s\n",
      "[21:02:39] WARNING: /Users/travis/build/dmlc/xgboost/src/learner.cc:1095: Starting in XGBoost 1.3.0, the default evaluation metric used with the objective 'binary:logistic' was changed from 'error' to 'logloss'. Explicitly set eval_metric if you'd like to restore the old behavior.\n"
     ]
    },
    {
     "name": "stderr",
     "output_type": "stream",
     "text": [
      "/Users/elonazharri/opt/anaconda3/lib/python3.7/site-packages/xgboost/sklearn.py:1146: UserWarning: The use of label encoder in XGBClassifier is deprecated and will be removed in a future release. To remove this warning, do the following: 1) Pass option use_label_encoder=False when constructing XGBClassifier object; and 2) Encode your labels (y) as integers starting with 0, i.e. 0, 1, 2, ..., [num_class - 1].\n",
      "  warnings.warn(label_encoder_deprecation_msg, UserWarning)\n"
     ]
    },
    {
     "name": "stdout",
     "output_type": "stream",
     "text": [
      "[CV 3/3] END colsample_bytree=0.8, gamma=0, learning_rate=0.2, max_depth=None, min_child_weight=3.0, n_estimators=100, objective=binary:logistic;, score=0.768 total time=   1.0s\n",
      "[21:02:40] WARNING: /Users/travis/build/dmlc/xgboost/src/learner.cc:1095: Starting in XGBoost 1.3.0, the default evaluation metric used with the objective 'binary:logistic' was changed from 'error' to 'logloss'. Explicitly set eval_metric if you'd like to restore the old behavior.\n"
     ]
    },
    {
     "name": "stderr",
     "output_type": "stream",
     "text": [
      "/Users/elonazharri/opt/anaconda3/lib/python3.7/site-packages/xgboost/sklearn.py:1146: UserWarning: The use of label encoder in XGBClassifier is deprecated and will be removed in a future release. To remove this warning, do the following: 1) Pass option use_label_encoder=False when constructing XGBClassifier object; and 2) Encode your labels (y) as integers starting with 0, i.e. 0, 1, 2, ..., [num_class - 1].\n",
      "  warnings.warn(label_encoder_deprecation_msg, UserWarning)\n"
     ]
    },
    {
     "name": "stdout",
     "output_type": "stream",
     "text": [
      "[CV 1/3] END colsample_bytree=0.8, gamma=0.25, learning_rate=0.001, max_depth=None, min_child_weight=5.0, n_estimators=100, objective=binary:logistic;, score=0.749 total time=   1.1s\n",
      "[21:02:42] WARNING: /Users/travis/build/dmlc/xgboost/src/learner.cc:1095: Starting in XGBoost 1.3.0, the default evaluation metric used with the objective 'binary:logistic' was changed from 'error' to 'logloss'. Explicitly set eval_metric if you'd like to restore the old behavior.\n"
     ]
    },
    {
     "name": "stderr",
     "output_type": "stream",
     "text": [
      "/Users/elonazharri/opt/anaconda3/lib/python3.7/site-packages/xgboost/sklearn.py:1146: UserWarning: The use of label encoder in XGBClassifier is deprecated and will be removed in a future release. To remove this warning, do the following: 1) Pass option use_label_encoder=False when constructing XGBClassifier object; and 2) Encode your labels (y) as integers starting with 0, i.e. 0, 1, 2, ..., [num_class - 1].\n",
      "  warnings.warn(label_encoder_deprecation_msg, UserWarning)\n"
     ]
    },
    {
     "name": "stdout",
     "output_type": "stream",
     "text": [
      "[CV 2/3] END colsample_bytree=0.8, gamma=0.25, learning_rate=0.001, max_depth=None, min_child_weight=5.0, n_estimators=100, objective=binary:logistic;, score=0.745 total time=   1.0s\n",
      "[21:02:43] WARNING: /Users/travis/build/dmlc/xgboost/src/learner.cc:1095: Starting in XGBoost 1.3.0, the default evaluation metric used with the objective 'binary:logistic' was changed from 'error' to 'logloss'. Explicitly set eval_metric if you'd like to restore the old behavior.\n"
     ]
    },
    {
     "name": "stderr",
     "output_type": "stream",
     "text": [
      "/Users/elonazharri/opt/anaconda3/lib/python3.7/site-packages/xgboost/sklearn.py:1146: UserWarning: The use of label encoder in XGBClassifier is deprecated and will be removed in a future release. To remove this warning, do the following: 1) Pass option use_label_encoder=False when constructing XGBClassifier object; and 2) Encode your labels (y) as integers starting with 0, i.e. 0, 1, 2, ..., [num_class - 1].\n",
      "  warnings.warn(label_encoder_deprecation_msg, UserWarning)\n"
     ]
    },
    {
     "name": "stdout",
     "output_type": "stream",
     "text": [
      "[CV 3/3] END colsample_bytree=0.8, gamma=0.25, learning_rate=0.001, max_depth=None, min_child_weight=5.0, n_estimators=100, objective=binary:logistic;, score=0.749 total time=   1.1s\n",
      "[21:02:44] WARNING: /Users/travis/build/dmlc/xgboost/src/learner.cc:1095: Starting in XGBoost 1.3.0, the default evaluation metric used with the objective 'binary:logistic' was changed from 'error' to 'logloss'. Explicitly set eval_metric if you'd like to restore the old behavior.\n",
      "[CV 1/3] END colsample_bytree=0.9, gamma=1.0, learning_rate=0.3, max_depth=None, min_child_weight=0.5, n_estimators=10, objective=binary:logistic;, score=0.759 total time=   0.2s\n",
      "[21:02:44] WARNING: /Users/travis/build/dmlc/xgboost/src/learner.cc:1095: Starting in XGBoost 1.3.0, the default evaluation metric used with the objective 'binary:logistic' was changed from 'error' to 'logloss'. Explicitly set eval_metric if you'd like to restore the old behavior.\n"
     ]
    },
    {
     "name": "stderr",
     "output_type": "stream",
     "text": [
      "/Users/elonazharri/opt/anaconda3/lib/python3.7/site-packages/xgboost/sklearn.py:1146: UserWarning: The use of label encoder in XGBClassifier is deprecated and will be removed in a future release. To remove this warning, do the following: 1) Pass option use_label_encoder=False when constructing XGBClassifier object; and 2) Encode your labels (y) as integers starting with 0, i.e. 0, 1, 2, ..., [num_class - 1].\n",
      "  warnings.warn(label_encoder_deprecation_msg, UserWarning)\n",
      "/Users/elonazharri/opt/anaconda3/lib/python3.7/site-packages/xgboost/sklearn.py:1146: UserWarning: The use of label encoder in XGBClassifier is deprecated and will be removed in a future release. To remove this warning, do the following: 1) Pass option use_label_encoder=False when constructing XGBClassifier object; and 2) Encode your labels (y) as integers starting with 0, i.e. 0, 1, 2, ..., [num_class - 1].\n",
      "  warnings.warn(label_encoder_deprecation_msg, UserWarning)\n"
     ]
    },
    {
     "name": "stdout",
     "output_type": "stream",
     "text": [
      "[CV 2/3] END colsample_bytree=0.9, gamma=1.0, learning_rate=0.3, max_depth=None, min_child_weight=0.5, n_estimators=10, objective=binary:logistic;, score=0.760 total time=   0.2s\n",
      "[21:02:44] WARNING: /Users/travis/build/dmlc/xgboost/src/learner.cc:1095: Starting in XGBoost 1.3.0, the default evaluation metric used with the objective 'binary:logistic' was changed from 'error' to 'logloss'. Explicitly set eval_metric if you'd like to restore the old behavior.\n",
      "[CV 3/3] END colsample_bytree=0.9, gamma=1.0, learning_rate=0.3, max_depth=None, min_child_weight=0.5, n_estimators=10, objective=binary:logistic;, score=0.761 total time=   0.2s\n",
      "[21:02:44] WARNING: /Users/travis/build/dmlc/xgboost/src/learner.cc:1095: Starting in XGBoost 1.3.0, the default evaluation metric used with the objective 'binary:logistic' was changed from 'error' to 'logloss'. Explicitly set eval_metric if you'd like to restore the old behavior.\n"
     ]
    },
    {
     "name": "stderr",
     "output_type": "stream",
     "text": [
      "/Users/elonazharri/opt/anaconda3/lib/python3.7/site-packages/xgboost/sklearn.py:1146: UserWarning: The use of label encoder in XGBClassifier is deprecated and will be removed in a future release. To remove this warning, do the following: 1) Pass option use_label_encoder=False when constructing XGBClassifier object; and 2) Encode your labels (y) as integers starting with 0, i.e. 0, 1, 2, ..., [num_class - 1].\n",
      "  warnings.warn(label_encoder_deprecation_msg, UserWarning)\n",
      "/Users/elonazharri/opt/anaconda3/lib/python3.7/site-packages/xgboost/sklearn.py:1146: UserWarning: The use of label encoder in XGBClassifier is deprecated and will be removed in a future release. To remove this warning, do the following: 1) Pass option use_label_encoder=False when constructing XGBClassifier object; and 2) Encode your labels (y) as integers starting with 0, i.e. 0, 1, 2, ..., [num_class - 1].\n",
      "  warnings.warn(label_encoder_deprecation_msg, UserWarning)\n"
     ]
    },
    {
     "name": "stdout",
     "output_type": "stream",
     "text": [
      "[CV 1/3] END colsample_bytree=0.5, gamma=0, learning_rate=0.1, max_depth=10, min_child_weight=0.5, n_estimators=10, objective=binary:logistic;, score=0.746 total time=   0.3s\n",
      "[21:02:44] WARNING: /Users/travis/build/dmlc/xgboost/src/learner.cc:1095: Starting in XGBoost 1.3.0, the default evaluation metric used with the objective 'binary:logistic' was changed from 'error' to 'logloss'. Explicitly set eval_metric if you'd like to restore the old behavior.\n"
     ]
    },
    {
     "name": "stderr",
     "output_type": "stream",
     "text": [
      "/Users/elonazharri/opt/anaconda3/lib/python3.7/site-packages/xgboost/sklearn.py:1146: UserWarning: The use of label encoder in XGBClassifier is deprecated and will be removed in a future release. To remove this warning, do the following: 1) Pass option use_label_encoder=False when constructing XGBClassifier object; and 2) Encode your labels (y) as integers starting with 0, i.e. 0, 1, 2, ..., [num_class - 1].\n",
      "  warnings.warn(label_encoder_deprecation_msg, UserWarning)\n"
     ]
    },
    {
     "name": "stdout",
     "output_type": "stream",
     "text": [
      "[CV 2/3] END colsample_bytree=0.5, gamma=0, learning_rate=0.1, max_depth=10, min_child_weight=0.5, n_estimators=10, objective=binary:logistic;, score=0.746 total time=   0.3s\n",
      "[21:02:45] WARNING: /Users/travis/build/dmlc/xgboost/src/learner.cc:1095: Starting in XGBoost 1.3.0, the default evaluation metric used with the objective 'binary:logistic' was changed from 'error' to 'logloss'. Explicitly set eval_metric if you'd like to restore the old behavior.\n"
     ]
    },
    {
     "name": "stderr",
     "output_type": "stream",
     "text": [
      "/Users/elonazharri/opt/anaconda3/lib/python3.7/site-packages/xgboost/sklearn.py:1146: UserWarning: The use of label encoder in XGBClassifier is deprecated and will be removed in a future release. To remove this warning, do the following: 1) Pass option use_label_encoder=False when constructing XGBClassifier object; and 2) Encode your labels (y) as integers starting with 0, i.e. 0, 1, 2, ..., [num_class - 1].\n",
      "  warnings.warn(label_encoder_deprecation_msg, UserWarning)\n"
     ]
    },
    {
     "name": "stdout",
     "output_type": "stream",
     "text": [
      "[CV 3/3] END colsample_bytree=0.5, gamma=0, learning_rate=0.1, max_depth=10, min_child_weight=0.5, n_estimators=10, objective=binary:logistic;, score=0.749 total time=   0.3s\n",
      "[21:02:45] WARNING: /Users/travis/build/dmlc/xgboost/src/learner.cc:1095: Starting in XGBoost 1.3.0, the default evaluation metric used with the objective 'binary:logistic' was changed from 'error' to 'logloss'. Explicitly set eval_metric if you'd like to restore the old behavior.\n"
     ]
    },
    {
     "name": "stderr",
     "output_type": "stream",
     "text": [
      "/Users/elonazharri/opt/anaconda3/lib/python3.7/site-packages/xgboost/sklearn.py:1146: UserWarning: The use of label encoder in XGBClassifier is deprecated and will be removed in a future release. To remove this warning, do the following: 1) Pass option use_label_encoder=False when constructing XGBClassifier object; and 2) Encode your labels (y) as integers starting with 0, i.e. 0, 1, 2, ..., [num_class - 1].\n",
      "  warnings.warn(label_encoder_deprecation_msg, UserWarning)\n"
     ]
    },
    {
     "name": "stdout",
     "output_type": "stream",
     "text": [
      "[CV 1/3] END colsample_bytree=0.9, gamma=0.25, learning_rate=0.01, max_depth=None, min_child_weight=0.5, n_estimators=20, objective=binary:logistic;, score=0.749 total time=   0.3s\n",
      "[21:02:45] WARNING: /Users/travis/build/dmlc/xgboost/src/learner.cc:1095: Starting in XGBoost 1.3.0, the default evaluation metric used with the objective 'binary:logistic' was changed from 'error' to 'logloss'. Explicitly set eval_metric if you'd like to restore the old behavior.\n"
     ]
    },
    {
     "name": "stderr",
     "output_type": "stream",
     "text": [
      "/Users/elonazharri/opt/anaconda3/lib/python3.7/site-packages/xgboost/sklearn.py:1146: UserWarning: The use of label encoder in XGBClassifier is deprecated and will be removed in a future release. To remove this warning, do the following: 1) Pass option use_label_encoder=False when constructing XGBClassifier object; and 2) Encode your labels (y) as integers starting with 0, i.e. 0, 1, 2, ..., [num_class - 1].\n",
      "  warnings.warn(label_encoder_deprecation_msg, UserWarning)\n"
     ]
    },
    {
     "name": "stdout",
     "output_type": "stream",
     "text": [
      "[CV 2/3] END colsample_bytree=0.9, gamma=0.25, learning_rate=0.01, max_depth=None, min_child_weight=0.5, n_estimators=20, objective=binary:logistic;, score=0.743 total time=   0.3s\n",
      "[21:02:46] WARNING: /Users/travis/build/dmlc/xgboost/src/learner.cc:1095: Starting in XGBoost 1.3.0, the default evaluation metric used with the objective 'binary:logistic' was changed from 'error' to 'logloss'. Explicitly set eval_metric if you'd like to restore the old behavior.\n"
     ]
    },
    {
     "name": "stderr",
     "output_type": "stream",
     "text": [
      "/Users/elonazharri/opt/anaconda3/lib/python3.7/site-packages/xgboost/sklearn.py:1146: UserWarning: The use of label encoder in XGBClassifier is deprecated and will be removed in a future release. To remove this warning, do the following: 1) Pass option use_label_encoder=False when constructing XGBClassifier object; and 2) Encode your labels (y) as integers starting with 0, i.e. 0, 1, 2, ..., [num_class - 1].\n",
      "  warnings.warn(label_encoder_deprecation_msg, UserWarning)\n"
     ]
    },
    {
     "name": "stdout",
     "output_type": "stream",
     "text": [
      "[CV 3/3] END colsample_bytree=0.9, gamma=0.25, learning_rate=0.01, max_depth=None, min_child_weight=0.5, n_estimators=20, objective=binary:logistic;, score=0.747 total time=   0.3s\n",
      "[21:02:46] WARNING: /Users/travis/build/dmlc/xgboost/src/learner.cc:1095: Starting in XGBoost 1.3.0, the default evaluation metric used with the objective 'binary:logistic' was changed from 'error' to 'logloss'. Explicitly set eval_metric if you'd like to restore the old behavior.\n"
     ]
    },
    {
     "name": "stderr",
     "output_type": "stream",
     "text": [
      "/Users/elonazharri/opt/anaconda3/lib/python3.7/site-packages/xgboost/sklearn.py:1146: UserWarning: The use of label encoder in XGBClassifier is deprecated and will be removed in a future release. To remove this warning, do the following: 1) Pass option use_label_encoder=False when constructing XGBClassifier object; and 2) Encode your labels (y) as integers starting with 0, i.e. 0, 1, 2, ..., [num_class - 1].\n",
      "  warnings.warn(label_encoder_deprecation_msg, UserWarning)\n"
     ]
    },
    {
     "data": {
      "text/plain": [
       "RandomizedSearchCV(cv=3,\n",
       "                   estimator=XGBClassifier(base_score=None, booster=None,\n",
       "                                           colsample_bylevel=None,\n",
       "                                           colsample_bynode=None,\n",
       "                                           colsample_bytree=None, gamma=None,\n",
       "                                           gpu_id=None, importance_type='gain',\n",
       "                                           interaction_constraints=None,\n",
       "                                           learning_rate=None,\n",
       "                                           max_delta_step=None, max_depth=None,\n",
       "                                           min_child_weight=None, missing=nan,\n",
       "                                           monotone_constraints=None,\n",
       "                                           n_estimators=100,...\n",
       "                                           subsample=None, tree_method=None,\n",
       "                                           validate_parameters=None,\n",
       "                                           verbosity=None),\n",
       "                   param_distributions={'colsample_bytree': [0.5, 0.7, 0.8, 0.9,\n",
       "                                                             1],\n",
       "                                        'gamma': [0, 0.25, 0.5, 1.0],\n",
       "                                        'learning_rate': [0.001, 0.01, 0.1, 0.2,\n",
       "                                                          0.3],\n",
       "                                        'max_depth': [None, 10, 50, 100],\n",
       "                                        'min_child_weight': [0.5, 1.0, 3.0,\n",
       "                                                             5.0],\n",
       "                                        'n_estimators': [10, 20, 50, 100],\n",
       "                                        'objective': ['binary:logistic']},\n",
       "                   random_state=1, scoring='balanced_accuracy', verbose=5)"
      ]
     },
     "execution_count": 172,
     "metadata": {},
     "output_type": "execute_result"
    }
   ],
   "source": [
    "params = {\n",
    "    'max_depth': [None, 10, 50, 100],\n",
    "    'learning_rate': [0.001, 0.01, 0.1, 0.2, 0.3],\n",
    "    'min_child_weight': [0.5, 1.0, 3.0, 5.0],\n",
    "    'gamma': [0, 0.25, 0.5, 1.0],\n",
    "    'n_estimators': [10, 20, 50, 100],\n",
    "    'colsample_bytree': [0.5, 0.7, 0.8, 0.9, 1],\n",
    "    'objective': ['binary:logistic']\n",
    "}\n",
    "\n",
    "xgb_clf = xgb.XGBClassifier(random_state=1)\n",
    "xgb_cv = RandomizedSearchCV(xgb_clf, params, cv=3, scoring='balanced_accuracy', verbose=5, random_state=1)\n",
    "\n",
    "xgb_cv.fit(X_train, y_train)"
   ]
  },
  {
   "cell_type": "code",
   "execution_count": 173,
   "id": "dc2605fe",
   "metadata": {},
   "outputs": [
    {
     "data": {
      "text/html": [
       "<div>\n",
       "<style scoped>\n",
       "    .dataframe tbody tr th:only-of-type {\n",
       "        vertical-align: middle;\n",
       "    }\n",
       "\n",
       "    .dataframe tbody tr th {\n",
       "        vertical-align: top;\n",
       "    }\n",
       "\n",
       "    .dataframe thead th {\n",
       "        text-align: right;\n",
       "    }\n",
       "</style>\n",
       "<table border=\"1\" class=\"dataframe\">\n",
       "  <thead>\n",
       "    <tr style=\"text-align: right;\">\n",
       "      <th></th>\n",
       "      <th>5</th>\n",
       "      <th>4</th>\n",
       "      <th>7</th>\n",
       "      <th>2</th>\n",
       "      <th>1</th>\n",
       "      <th>6</th>\n",
       "      <th>8</th>\n",
       "      <th>9</th>\n",
       "      <th>3</th>\n",
       "      <th>0</th>\n",
       "    </tr>\n",
       "  </thead>\n",
       "  <tbody>\n",
       "    <tr>\n",
       "      <th>mean_fit_time</th>\n",
       "      <td>1.046562</td>\n",
       "      <td>0.204773</td>\n",
       "      <td>0.140901</td>\n",
       "      <td>0.122861</td>\n",
       "      <td>3.738671</td>\n",
       "      <td>1.022073</td>\n",
       "      <td>0.26524</td>\n",
       "      <td>0.253262</td>\n",
       "      <td>0.12761</td>\n",
       "      <td>1.264964</td>\n",
       "    </tr>\n",
       "    <tr>\n",
       "      <th>std_fit_time</th>\n",
       "      <td>0.069779</td>\n",
       "      <td>0.014397</td>\n",
       "      <td>0.007404</td>\n",
       "      <td>0.007686</td>\n",
       "      <td>0.064191</td>\n",
       "      <td>0.008522</td>\n",
       "      <td>0.002737</td>\n",
       "      <td>0.020473</td>\n",
       "      <td>0.005711</td>\n",
       "      <td>0.017586</td>\n",
       "    </tr>\n",
       "    <tr>\n",
       "      <th>mean_score_time</th>\n",
       "      <td>0.031966</td>\n",
       "      <td>0.025252</td>\n",
       "      <td>0.024225</td>\n",
       "      <td>0.021612</td>\n",
       "      <td>0.047796</td>\n",
       "      <td>0.035959</td>\n",
       "      <td>0.024755</td>\n",
       "      <td>0.025107</td>\n",
       "      <td>0.02248</td>\n",
       "      <td>0.026669</td>\n",
       "    </tr>\n",
       "    <tr>\n",
       "      <th>std_score_time</th>\n",
       "      <td>0.001186</td>\n",
       "      <td>0.001574</td>\n",
       "      <td>0.000595</td>\n",
       "      <td>0.000539</td>\n",
       "      <td>0.002714</td>\n",
       "      <td>0.001191</td>\n",
       "      <td>0.000723</td>\n",
       "      <td>0.00006</td>\n",
       "      <td>0.000418</td>\n",
       "      <td>0.003421</td>\n",
       "    </tr>\n",
       "    <tr>\n",
       "      <th>param_objective</th>\n",
       "      <td>binary:logistic</td>\n",
       "      <td>binary:logistic</td>\n",
       "      <td>binary:logistic</td>\n",
       "      <td>binary:logistic</td>\n",
       "      <td>binary:logistic</td>\n",
       "      <td>binary:logistic</td>\n",
       "      <td>binary:logistic</td>\n",
       "      <td>binary:logistic</td>\n",
       "      <td>binary:logistic</td>\n",
       "      <td>binary:logistic</td>\n",
       "    </tr>\n",
       "    <tr>\n",
       "      <th>param_n_estimators</th>\n",
       "      <td>100</td>\n",
       "      <td>20</td>\n",
       "      <td>10</td>\n",
       "      <td>10</td>\n",
       "      <td>100</td>\n",
       "      <td>100</td>\n",
       "      <td>10</td>\n",
       "      <td>20</td>\n",
       "      <td>10</td>\n",
       "      <td>20</td>\n",
       "    </tr>\n",
       "    <tr>\n",
       "      <th>param_min_child_weight</th>\n",
       "      <td>3.0</td>\n",
       "      <td>3.0</td>\n",
       "      <td>0.5</td>\n",
       "      <td>5.0</td>\n",
       "      <td>3.0</td>\n",
       "      <td>5.0</td>\n",
       "      <td>0.5</td>\n",
       "      <td>0.5</td>\n",
       "      <td>3.0</td>\n",
       "      <td>1.0</td>\n",
       "    </tr>\n",
       "    <tr>\n",
       "      <th>param_max_depth</th>\n",
       "      <td>None</td>\n",
       "      <td>None</td>\n",
       "      <td>None</td>\n",
       "      <td>None</td>\n",
       "      <td>50</td>\n",
       "      <td>None</td>\n",
       "      <td>10</td>\n",
       "      <td>None</td>\n",
       "      <td>None</td>\n",
       "      <td>50</td>\n",
       "    </tr>\n",
       "    <tr>\n",
       "      <th>param_learning_rate</th>\n",
       "      <td>0.2</td>\n",
       "      <td>0.3</td>\n",
       "      <td>0.3</td>\n",
       "      <td>0.1</td>\n",
       "      <td>0.2</td>\n",
       "      <td>0.001</td>\n",
       "      <td>0.1</td>\n",
       "      <td>0.01</td>\n",
       "      <td>0.01</td>\n",
       "      <td>0.001</td>\n",
       "    </tr>\n",
       "    <tr>\n",
       "      <th>param_gamma</th>\n",
       "      <td>0</td>\n",
       "      <td>0.5</td>\n",
       "      <td>1.0</td>\n",
       "      <td>0</td>\n",
       "      <td>0</td>\n",
       "      <td>0.25</td>\n",
       "      <td>0</td>\n",
       "      <td>0.25</td>\n",
       "      <td>0</td>\n",
       "      <td>0</td>\n",
       "    </tr>\n",
       "    <tr>\n",
       "      <th>param_colsample_bytree</th>\n",
       "      <td>0.8</td>\n",
       "      <td>0.5</td>\n",
       "      <td>0.9</td>\n",
       "      <td>0.9</td>\n",
       "      <td>0.5</td>\n",
       "      <td>0.8</td>\n",
       "      <td>0.5</td>\n",
       "      <td>0.9</td>\n",
       "      <td>1</td>\n",
       "      <td>1</td>\n",
       "    </tr>\n",
       "    <tr>\n",
       "      <th>params</th>\n",
       "      <td>{'objective': 'binary:logistic', 'n_estimators...</td>\n",
       "      <td>{'objective': 'binary:logistic', 'n_estimators...</td>\n",
       "      <td>{'objective': 'binary:logistic', 'n_estimators...</td>\n",
       "      <td>{'objective': 'binary:logistic', 'n_estimators...</td>\n",
       "      <td>{'objective': 'binary:logistic', 'n_estimators...</td>\n",
       "      <td>{'objective': 'binary:logistic', 'n_estimators...</td>\n",
       "      <td>{'objective': 'binary:logistic', 'n_estimators...</td>\n",
       "      <td>{'objective': 'binary:logistic', 'n_estimators...</td>\n",
       "      <td>{'objective': 'binary:logistic', 'n_estimators...</td>\n",
       "      <td>{'objective': 'binary:logistic', 'n_estimators...</td>\n",
       "    </tr>\n",
       "    <tr>\n",
       "      <th>split0_test_score</th>\n",
       "      <td>0.764499</td>\n",
       "      <td>0.761154</td>\n",
       "      <td>0.75876</td>\n",
       "      <td>0.753914</td>\n",
       "      <td>0.750981</td>\n",
       "      <td>0.74906</td>\n",
       "      <td>0.746061</td>\n",
       "      <td>0.749271</td>\n",
       "      <td>0.739299</td>\n",
       "      <td>0.716739</td>\n",
       "    </tr>\n",
       "    <tr>\n",
       "      <th>split1_test_score</th>\n",
       "      <td>0.765796</td>\n",
       "      <td>0.757564</td>\n",
       "      <td>0.760131</td>\n",
       "      <td>0.749583</td>\n",
       "      <td>0.745193</td>\n",
       "      <td>0.744586</td>\n",
       "      <td>0.746095</td>\n",
       "      <td>0.742618</td>\n",
       "      <td>0.744203</td>\n",
       "      <td>0.715124</td>\n",
       "    </tr>\n",
       "    <tr>\n",
       "      <th>split2_test_score</th>\n",
       "      <td>0.767963</td>\n",
       "      <td>0.765222</td>\n",
       "      <td>0.760598</td>\n",
       "      <td>0.75493</td>\n",
       "      <td>0.756925</td>\n",
       "      <td>0.749254</td>\n",
       "      <td>0.749104</td>\n",
       "      <td>0.746775</td>\n",
       "      <td>0.743389</td>\n",
       "      <td>0.713663</td>\n",
       "    </tr>\n",
       "    <tr>\n",
       "      <th>mean_test_score</th>\n",
       "      <td>0.766086</td>\n",
       "      <td>0.761314</td>\n",
       "      <td>0.75983</td>\n",
       "      <td>0.752809</td>\n",
       "      <td>0.751033</td>\n",
       "      <td>0.747633</td>\n",
       "      <td>0.747087</td>\n",
       "      <td>0.746221</td>\n",
       "      <td>0.742297</td>\n",
       "      <td>0.715175</td>\n",
       "    </tr>\n",
       "    <tr>\n",
       "      <th>std_test_score</th>\n",
       "      <td>0.001429</td>\n",
       "      <td>0.003129</td>\n",
       "      <td>0.00078</td>\n",
       "      <td>0.002319</td>\n",
       "      <td>0.00479</td>\n",
       "      <td>0.002156</td>\n",
       "      <td>0.001426</td>\n",
       "      <td>0.002744</td>\n",
       "      <td>0.002146</td>\n",
       "      <td>0.001256</td>\n",
       "    </tr>\n",
       "    <tr>\n",
       "      <th>rank_test_score</th>\n",
       "      <td>1</td>\n",
       "      <td>2</td>\n",
       "      <td>3</td>\n",
       "      <td>4</td>\n",
       "      <td>5</td>\n",
       "      <td>6</td>\n",
       "      <td>7</td>\n",
       "      <td>8</td>\n",
       "      <td>9</td>\n",
       "      <td>10</td>\n",
       "    </tr>\n",
       "  </tbody>\n",
       "</table>\n",
       "</div>"
      ],
      "text/plain": [
       "                                                                        5  \\\n",
       "mean_fit_time                                                    1.046562   \n",
       "std_fit_time                                                     0.069779   \n",
       "mean_score_time                                                  0.031966   \n",
       "std_score_time                                                   0.001186   \n",
       "param_objective                                           binary:logistic   \n",
       "param_n_estimators                                                    100   \n",
       "param_min_child_weight                                                3.0   \n",
       "param_max_depth                                                      None   \n",
       "param_learning_rate                                                   0.2   \n",
       "param_gamma                                                             0   \n",
       "param_colsample_bytree                                                0.8   \n",
       "params                  {'objective': 'binary:logistic', 'n_estimators...   \n",
       "split0_test_score                                                0.764499   \n",
       "split1_test_score                                                0.765796   \n",
       "split2_test_score                                                0.767963   \n",
       "mean_test_score                                                  0.766086   \n",
       "std_test_score                                                   0.001429   \n",
       "rank_test_score                                                         1   \n",
       "\n",
       "                                                                        4  \\\n",
       "mean_fit_time                                                    0.204773   \n",
       "std_fit_time                                                     0.014397   \n",
       "mean_score_time                                                  0.025252   \n",
       "std_score_time                                                   0.001574   \n",
       "param_objective                                           binary:logistic   \n",
       "param_n_estimators                                                     20   \n",
       "param_min_child_weight                                                3.0   \n",
       "param_max_depth                                                      None   \n",
       "param_learning_rate                                                   0.3   \n",
       "param_gamma                                                           0.5   \n",
       "param_colsample_bytree                                                0.5   \n",
       "params                  {'objective': 'binary:logistic', 'n_estimators...   \n",
       "split0_test_score                                                0.761154   \n",
       "split1_test_score                                                0.757564   \n",
       "split2_test_score                                                0.765222   \n",
       "mean_test_score                                                  0.761314   \n",
       "std_test_score                                                   0.003129   \n",
       "rank_test_score                                                         2   \n",
       "\n",
       "                                                                        7  \\\n",
       "mean_fit_time                                                    0.140901   \n",
       "std_fit_time                                                     0.007404   \n",
       "mean_score_time                                                  0.024225   \n",
       "std_score_time                                                   0.000595   \n",
       "param_objective                                           binary:logistic   \n",
       "param_n_estimators                                                     10   \n",
       "param_min_child_weight                                                0.5   \n",
       "param_max_depth                                                      None   \n",
       "param_learning_rate                                                   0.3   \n",
       "param_gamma                                                           1.0   \n",
       "param_colsample_bytree                                                0.9   \n",
       "params                  {'objective': 'binary:logistic', 'n_estimators...   \n",
       "split0_test_score                                                 0.75876   \n",
       "split1_test_score                                                0.760131   \n",
       "split2_test_score                                                0.760598   \n",
       "mean_test_score                                                   0.75983   \n",
       "std_test_score                                                    0.00078   \n",
       "rank_test_score                                                         3   \n",
       "\n",
       "                                                                        2  \\\n",
       "mean_fit_time                                                    0.122861   \n",
       "std_fit_time                                                     0.007686   \n",
       "mean_score_time                                                  0.021612   \n",
       "std_score_time                                                   0.000539   \n",
       "param_objective                                           binary:logistic   \n",
       "param_n_estimators                                                     10   \n",
       "param_min_child_weight                                                5.0   \n",
       "param_max_depth                                                      None   \n",
       "param_learning_rate                                                   0.1   \n",
       "param_gamma                                                             0   \n",
       "param_colsample_bytree                                                0.9   \n",
       "params                  {'objective': 'binary:logistic', 'n_estimators...   \n",
       "split0_test_score                                                0.753914   \n",
       "split1_test_score                                                0.749583   \n",
       "split2_test_score                                                 0.75493   \n",
       "mean_test_score                                                  0.752809   \n",
       "std_test_score                                                   0.002319   \n",
       "rank_test_score                                                         4   \n",
       "\n",
       "                                                                        1  \\\n",
       "mean_fit_time                                                    3.738671   \n",
       "std_fit_time                                                     0.064191   \n",
       "mean_score_time                                                  0.047796   \n",
       "std_score_time                                                   0.002714   \n",
       "param_objective                                           binary:logistic   \n",
       "param_n_estimators                                                    100   \n",
       "param_min_child_weight                                                3.0   \n",
       "param_max_depth                                                        50   \n",
       "param_learning_rate                                                   0.2   \n",
       "param_gamma                                                             0   \n",
       "param_colsample_bytree                                                0.5   \n",
       "params                  {'objective': 'binary:logistic', 'n_estimators...   \n",
       "split0_test_score                                                0.750981   \n",
       "split1_test_score                                                0.745193   \n",
       "split2_test_score                                                0.756925   \n",
       "mean_test_score                                                  0.751033   \n",
       "std_test_score                                                    0.00479   \n",
       "rank_test_score                                                         5   \n",
       "\n",
       "                                                                        6  \\\n",
       "mean_fit_time                                                    1.022073   \n",
       "std_fit_time                                                     0.008522   \n",
       "mean_score_time                                                  0.035959   \n",
       "std_score_time                                                   0.001191   \n",
       "param_objective                                           binary:logistic   \n",
       "param_n_estimators                                                    100   \n",
       "param_min_child_weight                                                5.0   \n",
       "param_max_depth                                                      None   \n",
       "param_learning_rate                                                 0.001   \n",
       "param_gamma                                                          0.25   \n",
       "param_colsample_bytree                                                0.8   \n",
       "params                  {'objective': 'binary:logistic', 'n_estimators...   \n",
       "split0_test_score                                                 0.74906   \n",
       "split1_test_score                                                0.744586   \n",
       "split2_test_score                                                0.749254   \n",
       "mean_test_score                                                  0.747633   \n",
       "std_test_score                                                   0.002156   \n",
       "rank_test_score                                                         6   \n",
       "\n",
       "                                                                        8  \\\n",
       "mean_fit_time                                                     0.26524   \n",
       "std_fit_time                                                     0.002737   \n",
       "mean_score_time                                                  0.024755   \n",
       "std_score_time                                                   0.000723   \n",
       "param_objective                                           binary:logistic   \n",
       "param_n_estimators                                                     10   \n",
       "param_min_child_weight                                                0.5   \n",
       "param_max_depth                                                        10   \n",
       "param_learning_rate                                                   0.1   \n",
       "param_gamma                                                             0   \n",
       "param_colsample_bytree                                                0.5   \n",
       "params                  {'objective': 'binary:logistic', 'n_estimators...   \n",
       "split0_test_score                                                0.746061   \n",
       "split1_test_score                                                0.746095   \n",
       "split2_test_score                                                0.749104   \n",
       "mean_test_score                                                  0.747087   \n",
       "std_test_score                                                   0.001426   \n",
       "rank_test_score                                                         7   \n",
       "\n",
       "                                                                        9  \\\n",
       "mean_fit_time                                                    0.253262   \n",
       "std_fit_time                                                     0.020473   \n",
       "mean_score_time                                                  0.025107   \n",
       "std_score_time                                                    0.00006   \n",
       "param_objective                                           binary:logistic   \n",
       "param_n_estimators                                                     20   \n",
       "param_min_child_weight                                                0.5   \n",
       "param_max_depth                                                      None   \n",
       "param_learning_rate                                                  0.01   \n",
       "param_gamma                                                          0.25   \n",
       "param_colsample_bytree                                                0.9   \n",
       "params                  {'objective': 'binary:logistic', 'n_estimators...   \n",
       "split0_test_score                                                0.749271   \n",
       "split1_test_score                                                0.742618   \n",
       "split2_test_score                                                0.746775   \n",
       "mean_test_score                                                  0.746221   \n",
       "std_test_score                                                   0.002744   \n",
       "rank_test_score                                                         8   \n",
       "\n",
       "                                                                        3  \\\n",
       "mean_fit_time                                                     0.12761   \n",
       "std_fit_time                                                     0.005711   \n",
       "mean_score_time                                                   0.02248   \n",
       "std_score_time                                                   0.000418   \n",
       "param_objective                                           binary:logistic   \n",
       "param_n_estimators                                                     10   \n",
       "param_min_child_weight                                                3.0   \n",
       "param_max_depth                                                      None   \n",
       "param_learning_rate                                                  0.01   \n",
       "param_gamma                                                             0   \n",
       "param_colsample_bytree                                                  1   \n",
       "params                  {'objective': 'binary:logistic', 'n_estimators...   \n",
       "split0_test_score                                                0.739299   \n",
       "split1_test_score                                                0.744203   \n",
       "split2_test_score                                                0.743389   \n",
       "mean_test_score                                                  0.742297   \n",
       "std_test_score                                                   0.002146   \n",
       "rank_test_score                                                         9   \n",
       "\n",
       "                                                                        0  \n",
       "mean_fit_time                                                    1.264964  \n",
       "std_fit_time                                                     0.017586  \n",
       "mean_score_time                                                  0.026669  \n",
       "std_score_time                                                   0.003421  \n",
       "param_objective                                           binary:logistic  \n",
       "param_n_estimators                                                     20  \n",
       "param_min_child_weight                                                1.0  \n",
       "param_max_depth                                                        50  \n",
       "param_learning_rate                                                 0.001  \n",
       "param_gamma                                                             0  \n",
       "param_colsample_bytree                                                  1  \n",
       "params                  {'objective': 'binary:logistic', 'n_estimators...  \n",
       "split0_test_score                                                0.716739  \n",
       "split1_test_score                                                0.715124  \n",
       "split2_test_score                                                0.713663  \n",
       "mean_test_score                                                  0.715175  \n",
       "std_test_score                                                   0.001256  \n",
       "rank_test_score                                                        10  "
      ]
     },
     "execution_count": 173,
     "metadata": {},
     "output_type": "execute_result"
    }
   ],
   "source": [
    "#examine cv results\n",
    "pd.DataFrame(xgb_cv.cv_results_).sort_values('rank_test_score').T"
   ]
  },
  {
   "cell_type": "markdown",
   "id": "cf0af4e6",
   "metadata": {},
   "source": [
    "# K-Means Classifier"
   ]
  },
  {
   "cell_type": "code",
   "execution_count": 175,
   "id": "cd431146",
   "metadata": {},
   "outputs": [],
   "source": [
    "#first scale data\n",
    "from sklearn.preprocessing import StandardScaler\n",
    "scaler = StandardScaler()\n",
    "scaler.fit(X_train)\n",
    "X_tr_scaled = scaler.transform(X_train)\n",
    "X_te_scaled = scaler.transform(X_test)"
   ]
  },
  {
   "cell_type": "code",
   "execution_count": 176,
   "id": "07ad7eaa",
   "metadata": {},
   "outputs": [],
   "source": [
    "from sklearn.neighbors import KNeighborsClassifier\n",
    "#try several values for n_neighbors\n",
    "scores_dict = {}\n",
    "for i in list(range(2,9,2)) + list(range(10,100,10)):\n",
    "    knn = KNeighborsClassifier(n_neighbors=i)\n",
    "    scores = cross_val_score(knn, X_tr_scaled, y_train, scoring='balanced_accuracy', cv=3)\n",
    "    temp = {}\n",
    "    temp['mean'] = np.mean(scores)\n",
    "    temp['std'] = np.std(scores)\n",
    "    scores_dict[i] = temp"
   ]
  },
  {
   "cell_type": "code",
   "execution_count": 177,
   "id": "20991128",
   "metadata": {},
   "outputs": [
    {
     "data": {
      "text/plain": [
       "<AxesSubplot:xlabel='index', ylabel='mean'>"
      ]
     },
     "execution_count": 177,
     "metadata": {},
     "output_type": "execute_result"
    },
    {
     "data": {
      "image/png": "[encoded data removed]",
      "text/plain": [
       "<Figure size 432x288 with 1 Axes>"
      ]
     },
     "metadata": {
      "needs_background": "light"
     },
     "output_type": "display_data"
    }
   ],
   "source": [
    "pd.DataFrame(scores_dict).T.reset_index().plot(x='index', y='mean', kind='scatter')"
   ]
  },
  {
   "cell_type": "markdown",
   "id": "37ab5a19",
   "metadata": {},
   "source": [
    "# Logistic Regression"
   ]
  },
  {
   "cell_type": "code",
   "execution_count": 178,
   "id": "b782df65",
   "metadata": {},
   "outputs": [
    {
     "data": {
      "text/plain": [
       "0.6777434392701918"
      ]
     },
     "execution_count": 178,
     "metadata": {},
     "output_type": "execute_result"
    }
   ],
   "source": [
    "from sklearn.linear_model import LogisticRegression\n",
    "X_trs, X_vals, y_tr, y_val = train_test_split(X_tr_scaled, y_train, test_size=0.2)\n",
    "lr = LogisticRegression()\n",
    "lr.fit(X_trs, y_tr)\n",
    "y_tr_preds = lr.predict(X_trs)\n",
    "y_val_preds = lr.predict(X_vals)\n",
    "balanced_accuracy_score(y_tr, y_tr_preds)"
   ]
  },
  {
   "cell_type": "code",
   "execution_count": 179,
   "id": "d5ff4abf",
   "metadata": {},
   "outputs": [
    {
     "data": {
      "text/plain": [
       "0.6799676329847999"
      ]
     },
     "execution_count": 179,
     "metadata": {},
     "output_type": "execute_result"
    }
   ],
   "source": [
    "balanced_accuracy_score(y_val, y_val_preds)"
   ]
  },
  {
   "cell_type": "markdown",
   "id": "a01ccf17",
   "metadata": {},
   "source": [
    "# Model Selection and Evaluation"
   ]
  },
  {
   "cell_type": "markdown",
   "id": "024d01e5",
   "metadata": {},
   "source": [
    "The XGBoost model shows the best overall performance with a cross-validated balanced accuracy of 77%, so we choose XGBoost model."
   ]
  },
  {
   "cell_type": "code",
   "execution_count": 180,
   "id": "29d6b384",
   "metadata": {},
   "outputs": [
    {
     "name": "stderr",
     "output_type": "stream",
     "text": [
      "/Users/elonazharri/opt/anaconda3/lib/python3.7/site-packages/xgboost/sklearn.py:1146: UserWarning: The use of label encoder in XGBClassifier is deprecated and will be removed in a future release. To remove this warning, do the following: 1) Pass option use_label_encoder=False when constructing XGBClassifier object; and 2) Encode your labels (y) as integers starting with 0, i.e. 0, 1, 2, ..., [num_class - 1].\n",
      "  warnings.warn(label_encoder_deprecation_msg, UserWarning)\n"
     ]
    },
    {
     "name": "stdout",
     "output_type": "stream",
     "text": [
      "[21:09:25] WARNING: /Users/travis/build/dmlc/xgboost/src/learner.cc:1095: Starting in XGBoost 1.3.0, the default evaluation metric used with the objective 'binary:logistic' was changed from 'error' to 'logloss'. Explicitly set eval_metric if you'd like to restore the old behavior.\n"
     ]
    },
    {
     "data": {
      "text/plain": [
       "0.7624233048549749"
      ]
     },
     "execution_count": 180,
     "metadata": {},
     "output_type": "execute_result"
    }
   ],
   "source": [
    "xgb_clf = xgb_cv.best_estimator_\n",
    "\n",
    "xgb_clf.fit(X_train, y_train)\n",
    "\n",
    "y_preds = xgb_clf.predict(X_test)\n",
    "\n",
    "balanced_accuracy_score(y_test, y_preds)"
   ]
  },
  {
   "cell_type": "code",
   "execution_count": 182,
   "id": "26b8853c",
   "metadata": {},
   "outputs": [
    {
     "data": {
      "text/plain": [
       "<sklearn.metrics._plot.confusion_matrix.ConfusionMatrixDisplay at 0x7fb83ce3f850>"
      ]
     },
     "execution_count": 182,
     "metadata": {},
     "output_type": "execute_result"
    },
    {
     "data": {
      "image/png": "[encoded data removed]",
      "text/plain": [
       "<Figure size 432x288 with 2 Axes>"
      ]
     },
     "metadata": {
      "needs_background": "light"
     },
     "output_type": "display_data"
    }
   ],
   "source": [
    "plot_confusion_matrix(xgb_clf, X_test, y_test, cmap='Reds')"
   ]
  },
  {
   "cell_type": "code",
   "execution_count": 183,
   "id": "e4f635f4",
   "metadata": {},
   "outputs": [
    {
     "name": "stdout",
     "output_type": "stream",
     "text": [
      "The overall test accuracy is 0.7931\n"
     ]
    }
   ],
   "source": [
    "accuracy = (5362 + 2569) / (5362 + 2569 + 1253 + 816)\n",
    "print('The overall test accuracy is {}'.format(accuracy))"
   ]
  },
  {
   "cell_type": "code",
   "execution_count": null,
   "id": "23aaa6a7",
   "metadata": {},
   "outputs": [],
   "source": [
    "pd.DataFrame(precision_recall_fscore_support(y_test, y_preds), \n",
    "             index=['Precision', 'Recall', 'Fscore', 'Support'])"
   ]
  },
  {
   "cell_type": "code",
   "execution_count": null,
   "id": "b51db90d",
   "metadata": {},
   "outputs": [],
   "source": [
    "from sklearn.metrics import plot_roc_curve\n",
    "plot_roc_curve(xgb_clf, X_test, y_test)"
   ]
  },
  {
   "cell_type": "code",
   "execution_count": null,
   "id": "d5c05bfb",
   "metadata": {},
   "outputs": [],
   "source": []
  }
 ],
 "metadata": {
  "kernelspec": {
   "display_name": "Python 3",
   "language": "python",
   "name": "python3"
  },
  "language_info": {
   "codemirror_mode": {
    "name": "ipython",
    "version": 3
   },
   "file_extension": ".py",
   "mimetype": "text/x-python",
   "name": "python",
   "nbconvert_exporter": "python",
   "pygments_lexer": "ipython3",
   "version": "3.7.6"
  }
 },
 "nbformat": 4,
 "nbformat_minor": 5
}
