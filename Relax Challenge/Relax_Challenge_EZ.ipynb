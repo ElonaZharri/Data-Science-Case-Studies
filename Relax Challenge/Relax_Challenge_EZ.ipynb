{
 "cells": [
  {
   "cell_type": "code",
   "execution_count": 1,
   "id": "8c5216bc",
   "metadata": {},
   "outputs": [],
   "source": [
    "import numpy as np\n",
    "import pandas as pd\n",
    "import matplotlib.pyplot as plt"
   ]
  },
  {
   "cell_type": "code",
   "execution_count": 2,
   "id": "c93e4a96",
   "metadata": {},
   "outputs": [
    {
     "data": {
      "text/html": [
       "<div>\n",
       "<style scoped>\n",
       "    .dataframe tbody tr th:only-of-type {\n",
       "        vertical-align: middle;\n",
       "    }\n",
       "\n",
       "    .dataframe tbody tr th {\n",
       "        vertical-align: top;\n",
       "    }\n",
       "\n",
       "    .dataframe thead th {\n",
       "        text-align: right;\n",
       "    }\n",
       "</style>\n",
       "<table border=\"1\" class=\"dataframe\">\n",
       "  <thead>\n",
       "    <tr style=\"text-align: right;\">\n",
       "      <th></th>\n",
       "      <th>time_stamp</th>\n",
       "      <th>user_id</th>\n",
       "      <th>visited</th>\n",
       "    </tr>\n",
       "  </thead>\n",
       "  <tbody>\n",
       "    <tr>\n",
       "      <th>0</th>\n",
       "      <td>2014-04-22 03:53:30</td>\n",
       "      <td>1</td>\n",
       "      <td>1</td>\n",
       "    </tr>\n",
       "    <tr>\n",
       "      <th>1</th>\n",
       "      <td>2013-11-15 03:45:04</td>\n",
       "      <td>2</td>\n",
       "      <td>1</td>\n",
       "    </tr>\n",
       "    <tr>\n",
       "      <th>2</th>\n",
       "      <td>2013-11-29 03:45:04</td>\n",
       "      <td>2</td>\n",
       "      <td>1</td>\n",
       "    </tr>\n",
       "    <tr>\n",
       "      <th>3</th>\n",
       "      <td>2013-12-09 03:45:04</td>\n",
       "      <td>2</td>\n",
       "      <td>1</td>\n",
       "    </tr>\n",
       "    <tr>\n",
       "      <th>4</th>\n",
       "      <td>2013-12-25 03:45:04</td>\n",
       "      <td>2</td>\n",
       "      <td>1</td>\n",
       "    </tr>\n",
       "  </tbody>\n",
       "</table>\n",
       "</div>"
      ],
      "text/plain": [
       "            time_stamp  user_id  visited\n",
       "0  2014-04-22 03:53:30        1        1\n",
       "1  2013-11-15 03:45:04        2        1\n",
       "2  2013-11-29 03:45:04        2        1\n",
       "3  2013-12-09 03:45:04        2        1\n",
       "4  2013-12-25 03:45:04        2        1"
      ]
     },
     "execution_count": 2,
     "metadata": {},
     "output_type": "execute_result"
    }
   ],
   "source": [
    "df1 = pd.read_csv('takehome_user_engagement.csv')\n",
    "df1.head()"
   ]
  },
  {
   "cell_type": "code",
   "execution_count": 4,
   "id": "c8eb4130",
   "metadata": {},
   "outputs": [
    {
     "data": {
      "text/plain": [
       "(207917, 3)"
      ]
     },
     "execution_count": 4,
     "metadata": {},
     "output_type": "execute_result"
    }
   ],
   "source": [
    "df1.shape"
   ]
  },
  {
   "cell_type": "code",
   "execution_count": 9,
   "id": "98856bbf",
   "metadata": {},
   "outputs": [],
   "source": [
    "# I want to find how many times each user visited?\n",
    "users_by_visit=df1.groupby('user_id').count()"
   ]
  },
  {
   "cell_type": "code",
   "execution_count": 25,
   "id": "58e4be63",
   "metadata": {
    "scrolled": true
   },
   "outputs": [
    {
     "data": {
      "text/plain": [
       "array([  1,  14, 284,   2,   7,  18, 342,   8,  17,   9,   3, 362, 521,\n",
       "        59,  78, 205, 104,   5,  72,  24,   6,  20,   4, 111, 157, 147,\n",
       "       319,  13,  22,  56,  16, 159, 213, 142, 107, 305, 196,  60, 264,\n",
       "        21,  25, 271,  94, 167,  81, 202, 108,  33,  49, 110,  11,  12,\n",
       "        41,  32,  96, 487, 117, 146,  76,  98,  31, 283, 308, 134,  28,\n",
       "        89, 114, 250,  40, 211, 115,  44,  10, 489, 408,  87, 197, 209,\n",
       "       126, 295, 428, 437, 360, 109, 130,  68,  47,  80, 313, 224, 600,\n",
       "       247, 131, 160, 218,  29, 152,  65, 260, 367, 318, 326, 174, 222,\n",
       "       112, 163,  42, 397, 137, 106,  75, 374,  36,  19,  79,  48, 199,\n",
       "       304, 272,  82, 132, 210, 234, 187, 155, 345, 297, 289, 100, 113,\n",
       "       151,  85, 141,  35, 229, 119, 148,  46, 102, 254,  55,  26, 452,\n",
       "       217, 593, 242, 470, 153, 144, 266, 156,  93,  97, 236, 256, 279,\n",
       "       320,  66,  45, 139, 488, 309, 118,  52,  43, 291,  88, 123, 178,\n",
       "        51, 302,  23,  95, 188, 496,  58, 220, 349,  71,  38, 127,  57,\n",
       "       538,  70, 331, 212, 511, 384, 124, 219, 263, 232, 447, 173,  15,\n",
       "       438, 471, 105, 526, 129, 333, 404,  69,  30,  37,  77,  27, 286,\n",
       "       133, 136, 180, 182, 216, 228, 337, 372, 364, 237, 195, 338, 502,\n",
       "       171, 285, 566, 281, 282,  39, 231,  53,  54, 379,  73, 128, 198,\n",
       "       293, 143, 350,  83, 257,  34, 606, 225,  67, 208, 186, 314, 273,\n",
       "       371, 181, 194, 150, 373, 324, 519, 580, 259, 154,  63, 434, 332,\n",
       "       386, 162, 420,  86, 120, 395, 509,  74, 469, 243, 461, 311, 191,\n",
       "       172,  62,  90, 393, 380, 310,  91, 353, 406,  64, 363, 358, 449,\n",
       "       269, 233, 460, 463,  50, 258, 278, 344, 520, 177, 246, 168, 261,\n",
       "       472, 396, 176, 312, 361, 122, 301,  92, 480, 166, 274, 179, 169,\n",
       "       248, 436, 476, 405, 288, 482, 425, 423, 377, 500, 158, 343, 294,\n",
       "       138, 235, 433, 101, 200, 422, 383, 165, 203, 321, 378, 253, 545,\n",
       "       429, 474, 590, 328, 190, 287,  84, 347, 369, 214, 541, 585, 135,\n",
       "       140, 185, 411, 424, 275, 446, 292, 277, 121, 340, 517, 189, 479,\n",
       "       300, 547, 418, 581, 175, 442, 451, 184, 394, 409, 299, 206, 400,\n",
       "       435, 458, 370, 450, 103,  99, 183,  61, 415, 336, 323, 501, 387,\n",
       "       478, 399, 499, 341, 230, 270, 226, 484, 327, 251, 161, 255])"
      ]
     },
     "execution_count": 25,
     "metadata": {},
     "output_type": "execute_result"
    }
   ],
   "source": [
    "users_by_visit.visited.unique()"
   ]
  },
  {
   "cell_type": "code",
   "execution_count": 26,
   "id": "2142cad5",
   "metadata": {},
   "outputs": [
    {
     "data": {
      "text/plain": [
       "606"
      ]
     },
     "execution_count": 26,
     "metadata": {},
     "output_type": "execute_result"
    }
   ],
   "source": [
    "# I want to find the user who visited the most\n",
    "users_by_visit.visited.max()"
   ]
  },
  {
   "cell_type": "code",
   "execution_count": 19,
   "id": "d1b3e614",
   "metadata": {},
   "outputs": [
    {
     "name": "stdout",
     "output_type": "stream",
     "text": [
      "         time_stamp  visited\n",
      "user_id                     \n",
      "3623            606      606\n"
     ]
    }
   ],
   "source": [
    "print(users_by_visit[users_by_visit['visited']==606])"
   ]
  },
  {
   "cell_type": "code",
   "execution_count": 3,
   "id": "04b73508",
   "metadata": {},
   "outputs": [
    {
     "data": {
      "text/html": [
       "<div>\n",
       "<style scoped>\n",
       "    .dataframe tbody tr th:only-of-type {\n",
       "        vertical-align: middle;\n",
       "    }\n",
       "\n",
       "    .dataframe tbody tr th {\n",
       "        vertical-align: top;\n",
       "    }\n",
       "\n",
       "    .dataframe thead th {\n",
       "        text-align: right;\n",
       "    }\n",
       "</style>\n",
       "<table border=\"1\" class=\"dataframe\">\n",
       "  <thead>\n",
       "    <tr style=\"text-align: right;\">\n",
       "      <th></th>\n",
       "      <th>object_id</th>\n",
       "      <th>creation_time</th>\n",
       "      <th>name</th>\n",
       "      <th>email</th>\n",
       "      <th>creation_source</th>\n",
       "      <th>last_session_creation_time</th>\n",
       "      <th>opted_in_to_mailing_list</th>\n",
       "      <th>enabled_for_marketing_drip</th>\n",
       "      <th>org_id</th>\n",
       "      <th>invited_by_user_id</th>\n",
       "    </tr>\n",
       "  </thead>\n",
       "  <tbody>\n",
       "    <tr>\n",
       "      <th>0</th>\n",
       "      <td>1</td>\n",
       "      <td>2014-04-22 03:53:30</td>\n",
       "      <td>Clausen August</td>\n",
       "      <td>AugustCClausen@yahoo.com</td>\n",
       "      <td>GUEST_INVITE</td>\n",
       "      <td>1.398139e+09</td>\n",
       "      <td>1</td>\n",
       "      <td>0</td>\n",
       "      <td>11</td>\n",
       "      <td>10803.0</td>\n",
       "    </tr>\n",
       "    <tr>\n",
       "      <th>1</th>\n",
       "      <td>2</td>\n",
       "      <td>2013-11-15 03:45:04</td>\n",
       "      <td>Poole Matthew</td>\n",
       "      <td>MatthewPoole@gustr.com</td>\n",
       "      <td>ORG_INVITE</td>\n",
       "      <td>1.396238e+09</td>\n",
       "      <td>0</td>\n",
       "      <td>0</td>\n",
       "      <td>1</td>\n",
       "      <td>316.0</td>\n",
       "    </tr>\n",
       "    <tr>\n",
       "      <th>2</th>\n",
       "      <td>3</td>\n",
       "      <td>2013-03-19 23:14:52</td>\n",
       "      <td>Bottrill Mitchell</td>\n",
       "      <td>MitchellBottrill@gustr.com</td>\n",
       "      <td>ORG_INVITE</td>\n",
       "      <td>1.363735e+09</td>\n",
       "      <td>0</td>\n",
       "      <td>0</td>\n",
       "      <td>94</td>\n",
       "      <td>1525.0</td>\n",
       "    </tr>\n",
       "    <tr>\n",
       "      <th>3</th>\n",
       "      <td>4</td>\n",
       "      <td>2013-05-21 08:09:28</td>\n",
       "      <td>Clausen Nicklas</td>\n",
       "      <td>NicklasSClausen@yahoo.com</td>\n",
       "      <td>GUEST_INVITE</td>\n",
       "      <td>1.369210e+09</td>\n",
       "      <td>0</td>\n",
       "      <td>0</td>\n",
       "      <td>1</td>\n",
       "      <td>5151.0</td>\n",
       "    </tr>\n",
       "    <tr>\n",
       "      <th>4</th>\n",
       "      <td>5</td>\n",
       "      <td>2013-01-17 10:14:20</td>\n",
       "      <td>Raw Grace</td>\n",
       "      <td>GraceRaw@yahoo.com</td>\n",
       "      <td>GUEST_INVITE</td>\n",
       "      <td>1.358850e+09</td>\n",
       "      <td>0</td>\n",
       "      <td>0</td>\n",
       "      <td>193</td>\n",
       "      <td>5240.0</td>\n",
       "    </tr>\n",
       "  </tbody>\n",
       "</table>\n",
       "</div>"
      ],
      "text/plain": [
       "   object_id        creation_time               name  \\\n",
       "0          1  2014-04-22 03:53:30     Clausen August   \n",
       "1          2  2013-11-15 03:45:04      Poole Matthew   \n",
       "2          3  2013-03-19 23:14:52  Bottrill Mitchell   \n",
       "3          4  2013-05-21 08:09:28    Clausen Nicklas   \n",
       "4          5  2013-01-17 10:14:20          Raw Grace   \n",
       "\n",
       "                        email creation_source  last_session_creation_time  \\\n",
       "0    AugustCClausen@yahoo.com    GUEST_INVITE                1.398139e+09   \n",
       "1      MatthewPoole@gustr.com      ORG_INVITE                1.396238e+09   \n",
       "2  MitchellBottrill@gustr.com      ORG_INVITE                1.363735e+09   \n",
       "3   NicklasSClausen@yahoo.com    GUEST_INVITE                1.369210e+09   \n",
       "4          GraceRaw@yahoo.com    GUEST_INVITE                1.358850e+09   \n",
       "\n",
       "   opted_in_to_mailing_list  enabled_for_marketing_drip  org_id  \\\n",
       "0                         1                           0      11   \n",
       "1                         0                           0       1   \n",
       "2                         0                           0      94   \n",
       "3                         0                           0       1   \n",
       "4                         0                           0     193   \n",
       "\n",
       "   invited_by_user_id  \n",
       "0             10803.0  \n",
       "1               316.0  \n",
       "2              1525.0  \n",
       "3              5151.0  \n",
       "4              5240.0  "
      ]
     },
     "execution_count": 3,
     "metadata": {},
     "output_type": "execute_result"
    }
   ],
   "source": [
    "df2 = pd.read_csv('takehome_users.csv')\n",
    "df2.head()"
   ]
  },
  {
   "cell_type": "code",
   "execution_count": 5,
   "id": "5785e5e0",
   "metadata": {},
   "outputs": [
    {
     "data": {
      "text/plain": [
       "(12000, 10)"
      ]
     },
     "execution_count": 5,
     "metadata": {},
     "output_type": "execute_result"
    }
   ],
   "source": [
    "df2.shape"
   ]
  },
  {
   "cell_type": "code",
   "execution_count": 22,
   "id": "66525852",
   "metadata": {},
   "outputs": [
    {
     "data": {
      "text/html": [
       "<div>\n",
       "<style scoped>\n",
       "    .dataframe tbody tr th:only-of-type {\n",
       "        vertical-align: middle;\n",
       "    }\n",
       "\n",
       "    .dataframe tbody tr th {\n",
       "        vertical-align: top;\n",
       "    }\n",
       "\n",
       "    .dataframe thead th {\n",
       "        text-align: right;\n",
       "    }\n",
       "</style>\n",
       "<table border=\"1\" class=\"dataframe\">\n",
       "  <thead>\n",
       "    <tr style=\"text-align: right;\">\n",
       "      <th></th>\n",
       "      <th>object_id</th>\n",
       "      <th>creation_time</th>\n",
       "      <th>name</th>\n",
       "      <th>email</th>\n",
       "      <th>creation_source</th>\n",
       "      <th>last_session_creation_time</th>\n",
       "      <th>opted_in_to_mailing_list</th>\n",
       "      <th>enabled_for_marketing_drip</th>\n",
       "      <th>org_id</th>\n",
       "      <th>invited_by_user_id</th>\n",
       "    </tr>\n",
       "  </thead>\n",
       "  <tbody>\n",
       "    <tr>\n",
       "      <th>3622</th>\n",
       "      <td>3623</td>\n",
       "      <td>2012-06-25 14:34:33</td>\n",
       "      <td>Melo Vit�ria</td>\n",
       "      <td>VitoriaAlvesMelo@jourrapide.com</td>\n",
       "      <td>ORG_INVITE</td>\n",
       "      <td>1.401201e+09</td>\n",
       "      <td>0</td>\n",
       "      <td>0</td>\n",
       "      <td>364</td>\n",
       "      <td>3623.0</td>\n",
       "    </tr>\n",
       "  </tbody>\n",
       "</table>\n",
       "</div>"
      ],
      "text/plain": [
       "      object_id        creation_time          name  \\\n",
       "3622       3623  2012-06-25 14:34:33  Melo Vit�ria   \n",
       "\n",
       "                                email creation_source  \\\n",
       "3622  VitoriaAlvesMelo@jourrapide.com      ORG_INVITE   \n",
       "\n",
       "      last_session_creation_time  opted_in_to_mailing_list  \\\n",
       "3622                1.401201e+09                         0   \n",
       "\n",
       "      enabled_for_marketing_drip  org_id  invited_by_user_id  \n",
       "3622                           0     364              3623.0  "
      ]
     },
     "execution_count": 22,
     "metadata": {},
     "output_type": "execute_result"
    }
   ],
   "source": [
    "df2[df2['object_id']==3623]"
   ]
  },
  {
   "cell_type": "code",
   "execution_count": 27,
   "id": "597a9150",
   "metadata": {},
   "outputs": [
    {
     "data": {
      "text/plain": [
       "array(['GUEST_INVITE', 'ORG_INVITE', 'SIGNUP', 'PERSONAL_PROJECTS',\n",
       "       'SIGNUP_GOOGLE_AUTH'], dtype=object)"
      ]
     },
     "execution_count": 27,
     "metadata": {},
     "output_type": "execute_result"
    }
   ],
   "source": [
    "# I want to check the creation source\n",
    "df2['creation_source'].unique()"
   ]
  },
  {
   "cell_type": "markdown",
   "id": "ed9c3850",
   "metadata": {},
   "source": [
    "Looks like the users have signed up for ('GUEST_INVITE', 'ORG_INVITE', 'SIGNUP', 'PERSONAL_PROJECTS','SIGNUP_GOOGLE_AUTH')"
   ]
  },
  {
   "cell_type": "code",
   "execution_count": null,
   "id": "191998b9",
   "metadata": {},
   "outputs": [],
   "source": [
    "# how many were refered from existing users?"
   ]
  },
  {
   "cell_type": "code",
   "execution_count": 38,
   "id": "74b694b1",
   "metadata": {},
   "outputs": [],
   "source": [
    "# import pandasql as ps\n",
    "#print(ps.sqldf(\"select a.object_id,b.object_id from df a, df b where a.object_id = b.invited_by_user_id\"))"
   ]
  },
  {
   "cell_type": "code",
   "execution_count": 42,
   "id": "0de10b8c",
   "metadata": {},
   "outputs": [],
   "source": [
    "x=df2['invited_by_user_id'].isin(df2['object_id']).any()"
   ]
  },
  {
   "cell_type": "code",
   "execution_count": 46,
   "id": "a320f1cf",
   "metadata": {},
   "outputs": [],
   "source": [
    "y=df2.apply(lambda row:row.value_counts()[row['object_id']] > 1 , axis=1)"
   ]
  },
  {
   "cell_type": "code",
   "execution_count": 47,
   "id": "d84d2b26",
   "metadata": {},
   "outputs": [
    {
     "data": {
      "text/html": [
       "<div>\n",
       "<style scoped>\n",
       "    .dataframe tbody tr th:only-of-type {\n",
       "        vertical-align: middle;\n",
       "    }\n",
       "\n",
       "    .dataframe tbody tr th {\n",
       "        vertical-align: top;\n",
       "    }\n",
       "\n",
       "    .dataframe thead th {\n",
       "        text-align: right;\n",
       "    }\n",
       "</style>\n",
       "<table border=\"1\" class=\"dataframe\">\n",
       "  <thead>\n",
       "    <tr style=\"text-align: right;\">\n",
       "      <th></th>\n",
       "      <th>object_id</th>\n",
       "      <th>creation_time</th>\n",
       "      <th>name</th>\n",
       "      <th>email</th>\n",
       "      <th>creation_source</th>\n",
       "      <th>last_session_creation_time</th>\n",
       "      <th>opted_in_to_mailing_list</th>\n",
       "      <th>enabled_for_marketing_drip</th>\n",
       "      <th>org_id</th>\n",
       "      <th>invited_by_user_id</th>\n",
       "    </tr>\n",
       "  </thead>\n",
       "  <tbody>\n",
       "    <tr>\n",
       "      <th>0</th>\n",
       "      <td>1</td>\n",
       "      <td>2014-04-22 03:53:30</td>\n",
       "      <td>Clausen August</td>\n",
       "      <td>AugustCClausen@yahoo.com</td>\n",
       "      <td>GUEST_INVITE</td>\n",
       "      <td>1.398139e+09</td>\n",
       "      <td>1</td>\n",
       "      <td>0</td>\n",
       "      <td>11</td>\n",
       "      <td>10803.0</td>\n",
       "    </tr>\n",
       "    <tr>\n",
       "      <th>22</th>\n",
       "      <td>23</td>\n",
       "      <td>2012-08-17 08:30:27</td>\n",
       "      <td>Souza Alice</td>\n",
       "      <td>AliceAraujoSouza@gustr.com</td>\n",
       "      <td>ORG_INVITE</td>\n",
       "      <td>1.345279e+09</td>\n",
       "      <td>1</td>\n",
       "      <td>0</td>\n",
       "      <td>6</td>\n",
       "      <td>23.0</td>\n",
       "    </tr>\n",
       "    <tr>\n",
       "      <th>49</th>\n",
       "      <td>50</td>\n",
       "      <td>2012-06-03 11:02:08</td>\n",
       "      <td>Oliveira Gabrielly</td>\n",
       "      <td>GabriellyAlmeidaOliveira@gmail.com</td>\n",
       "      <td>GUEST_INVITE</td>\n",
       "      <td>1.350990e+09</td>\n",
       "      <td>0</td>\n",
       "      <td>0</td>\n",
       "      <td>61</td>\n",
       "      <td>50.0</td>\n",
       "    </tr>\n",
       "    <tr>\n",
       "      <th>120</th>\n",
       "      <td>121</td>\n",
       "      <td>2013-01-03 23:57:39</td>\n",
       "      <td>Toft Dennis</td>\n",
       "      <td>DennisMToft@cuvox.de</td>\n",
       "      <td>GUEST_INVITE</td>\n",
       "      <td>1.357257e+09</td>\n",
       "      <td>1</td>\n",
       "      <td>0</td>\n",
       "      <td>402</td>\n",
       "      <td>121.0</td>\n",
       "    </tr>\n",
       "    <tr>\n",
       "      <th>137</th>\n",
       "      <td>138</td>\n",
       "      <td>2013-07-04 20:12:30</td>\n",
       "      <td>Gibbs Henry</td>\n",
       "      <td>HenryGibbs@gmail.com</td>\n",
       "      <td>SIGNUP_GOOGLE_AUTH</td>\n",
       "      <td>1.372969e+09</td>\n",
       "      <td>0</td>\n",
       "      <td>0</td>\n",
       "      <td>138</td>\n",
       "      <td>NaN</td>\n",
       "    </tr>\n",
       "    <tr>\n",
       "      <th>...</th>\n",
       "      <td>...</td>\n",
       "      <td>...</td>\n",
       "      <td>...</td>\n",
       "      <td>...</td>\n",
       "      <td>...</td>\n",
       "      <td>...</td>\n",
       "      <td>...</td>\n",
       "      <td>...</td>\n",
       "      <td>...</td>\n",
       "      <td>...</td>\n",
       "    </tr>\n",
       "    <tr>\n",
       "      <th>11767</th>\n",
       "      <td>11768</td>\n",
       "      <td>2012-10-10 12:02:31</td>\n",
       "      <td>White Robert</td>\n",
       "      <td>RobertRWhite@cuvox.de</td>\n",
       "      <td>ORG_INVITE</td>\n",
       "      <td>NaN</td>\n",
       "      <td>0</td>\n",
       "      <td>0</td>\n",
       "      <td>38</td>\n",
       "      <td>11768.0</td>\n",
       "    </tr>\n",
       "    <tr>\n",
       "      <th>11773</th>\n",
       "      <td>11774</td>\n",
       "      <td>2012-07-10 10:01:09</td>\n",
       "      <td>Toft Louise</td>\n",
       "      <td>qwnamkpr@rimoj.com</td>\n",
       "      <td>ORG_INVITE</td>\n",
       "      <td>1.342346e+09</td>\n",
       "      <td>0</td>\n",
       "      <td>0</td>\n",
       "      <td>3</td>\n",
       "      <td>11774.0</td>\n",
       "    </tr>\n",
       "    <tr>\n",
       "      <th>11794</th>\n",
       "      <td>11795</td>\n",
       "      <td>2012-10-25 14:15:03</td>\n",
       "      <td>K�nig Frank</td>\n",
       "      <td>FrankKonig@cuvox.de</td>\n",
       "      <td>ORG_INVITE</td>\n",
       "      <td>1.351175e+09</td>\n",
       "      <td>0</td>\n",
       "      <td>0</td>\n",
       "      <td>153</td>\n",
       "      <td>11795.0</td>\n",
       "    </tr>\n",
       "    <tr>\n",
       "      <th>11803</th>\n",
       "      <td>11804</td>\n",
       "      <td>2012-06-18 09:20:44</td>\n",
       "      <td>Lund Jens</td>\n",
       "      <td>JensSLund@gmail.com</td>\n",
       "      <td>GUEST_INVITE</td>\n",
       "      <td>NaN</td>\n",
       "      <td>0</td>\n",
       "      <td>0</td>\n",
       "      <td>26</td>\n",
       "      <td>11804.0</td>\n",
       "    </tr>\n",
       "    <tr>\n",
       "      <th>11855</th>\n",
       "      <td>11856</td>\n",
       "      <td>2012-11-26 21:50:11</td>\n",
       "      <td>Araujo Vin�cius</td>\n",
       "      <td>ViniciusCostaAraujo@jourrapide.com</td>\n",
       "      <td>ORG_INVITE</td>\n",
       "      <td>1.355954e+09</td>\n",
       "      <td>1</td>\n",
       "      <td>1</td>\n",
       "      <td>394</td>\n",
       "      <td>11856.0</td>\n",
       "    </tr>\n",
       "  </tbody>\n",
       "</table>\n",
       "<p>224 rows × 10 columns</p>\n",
       "</div>"
      ],
      "text/plain": [
       "       object_id        creation_time                name  \\\n",
       "0              1  2014-04-22 03:53:30      Clausen August   \n",
       "22            23  2012-08-17 08:30:27         Souza Alice   \n",
       "49            50  2012-06-03 11:02:08  Oliveira Gabrielly   \n",
       "120          121  2013-01-03 23:57:39         Toft Dennis   \n",
       "137          138  2013-07-04 20:12:30         Gibbs Henry   \n",
       "...          ...                  ...                 ...   \n",
       "11767      11768  2012-10-10 12:02:31        White Robert   \n",
       "11773      11774  2012-07-10 10:01:09         Toft Louise   \n",
       "11794      11795  2012-10-25 14:15:03         K�nig Frank   \n",
       "11803      11804  2012-06-18 09:20:44           Lund Jens   \n",
       "11855      11856  2012-11-26 21:50:11     Araujo Vin�cius   \n",
       "\n",
       "                                    email     creation_source  \\\n",
       "0                AugustCClausen@yahoo.com        GUEST_INVITE   \n",
       "22             AliceAraujoSouza@gustr.com          ORG_INVITE   \n",
       "49     GabriellyAlmeidaOliveira@gmail.com        GUEST_INVITE   \n",
       "120                  DennisMToft@cuvox.de        GUEST_INVITE   \n",
       "137                  HenryGibbs@gmail.com  SIGNUP_GOOGLE_AUTH   \n",
       "...                                   ...                 ...   \n",
       "11767               RobertRWhite@cuvox.de          ORG_INVITE   \n",
       "11773                  qwnamkpr@rimoj.com          ORG_INVITE   \n",
       "11794                 FrankKonig@cuvox.de          ORG_INVITE   \n",
       "11803                 JensSLund@gmail.com        GUEST_INVITE   \n",
       "11855  ViniciusCostaAraujo@jourrapide.com          ORG_INVITE   \n",
       "\n",
       "       last_session_creation_time  opted_in_to_mailing_list  \\\n",
       "0                    1.398139e+09                         1   \n",
       "22                   1.345279e+09                         1   \n",
       "49                   1.350990e+09                         0   \n",
       "120                  1.357257e+09                         1   \n",
       "137                  1.372969e+09                         0   \n",
       "...                           ...                       ...   \n",
       "11767                         NaN                         0   \n",
       "11773                1.342346e+09                         0   \n",
       "11794                1.351175e+09                         0   \n",
       "11803                         NaN                         0   \n",
       "11855                1.355954e+09                         1   \n",
       "\n",
       "       enabled_for_marketing_drip  org_id  invited_by_user_id  \n",
       "0                               0      11             10803.0  \n",
       "22                              0       6                23.0  \n",
       "49                              0      61                50.0  \n",
       "120                             0     402               121.0  \n",
       "137                             0     138                 NaN  \n",
       "...                           ...     ...                 ...  \n",
       "11767                           0      38             11768.0  \n",
       "11773                           0       3             11774.0  \n",
       "11794                           0     153             11795.0  \n",
       "11803                           0      26             11804.0  \n",
       "11855                           1     394             11856.0  \n",
       "\n",
       "[224 rows x 10 columns]"
      ]
     },
     "execution_count": 47,
     "metadata": {},
     "output_type": "execute_result"
    }
   ],
   "source": [
    "df2[y]"
   ]
  },
  {
   "cell_type": "code",
   "execution_count": 48,
   "id": "59f703b9",
   "metadata": {},
   "outputs": [
    {
     "data": {
      "image/png": "[encoded data removed]",
      "text/plain": [
       "<Figure size 432x288 with 1 Axes>"
      ]
     },
     "metadata": {
      "needs_background": "light"
     },
     "output_type": "display_data"
    }
   ],
   "source": [
    "# I want to visualize users activity\n",
    "df1.plot()\n",
    "plt.show()"
   ]
  }
 ],
 "metadata": {
  "kernelspec": {
   "display_name": "Python 3",
   "language": "python",
   "name": "python3"
  },
  "language_info": {
   "codemirror_mode": {
    "name": "ipython",
    "version": 3
   },
   "file_extension": ".py",
   "mimetype": "text/x-python",
   "name": "python",
   "nbconvert_exporter": "python",
   "pygments_lexer": "ipython3",
   "version": "3.7.6"
  }
 },
 "nbformat": 4,
 "nbformat_minor": 5
}
